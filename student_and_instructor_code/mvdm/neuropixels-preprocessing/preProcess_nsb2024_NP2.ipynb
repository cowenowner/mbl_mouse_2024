{
 "cells": [
  {
   "cell_type": "code",
   "execution_count": 1,
   "id": "d5c26ee5-3478-4610-805d-8cd8fb1df244",
   "metadata": {
    "is_executing": true
   },
   "outputs": [],
   "source": [
    "import spikeinterface.full as si\n",
    "import probeinterface as pif\n",
    "import numpy as np\n",
    "from probeinterface.plotting import plot_probe\n",
    "import matplotlib.pyplot as plt\n",
    "import scipy.io as scio\n",
    "import os\n",
    "import json\n",
    "import paramiko\n",
    "import subprocess\n",
    "import re\n",
    "from scp import SCPClient"
   ]
  },
  {
   "cell_type": "code",
   "execution_count": 2,
   "id": "fbd97dc9-bded-4923-b2de-005c11fc13fa",
   "metadata": {},
   "outputs": [],
   "source": [
    "%matplotlib widget"
   ]
  },
  {
   "cell_type": "markdown",
   "id": "84fc463a",
   "metadata": {},
   "source": [
    "# Ideally you want to run Catgt at this point, if you haven't already\n",
    "```\n",
    "C:\\CatGT-win/CatGT.exe -dir=D:\\NPX_Data\\M465\\sourcedata\\sub-M465 -run=M465-2024-01-31 -g=0 -t=0 -prb_fld -t_miss_ok -ni -ap -prb=0 -dest=D:\\NPX_Data\\M465\\custom_preprocessed\\M465-2024-01-31\n",
    "```\n",
    "For a 2 probe session, the command changes slightly\n",
    "```\n",
    "C:\\CatGT-win/CatGT.exe -dir=D:\\NPX_Data\\OdorPixels\\Pilot1\\M465\\sourcedata\\sub-M465 -run=M465-2024-02-02 -g=0 -t=0 -prb_fld -t_miss_ok -ni -ap -prb='0,1' -dest=D:\\NPX_Data\\OdorPixels\\Pilot1\\M465\\preprocessed\\M465-2024-02-02\n",
    "```\n",
    "- VERY IMPORTANT!! Do not apply global CAR to be able to use LFPs later\n",
    "- Adding the option `-no_autosync` will not extract the sync file stamps from the nidq, or the imec streams\n",
    "- Set the destination to a different folder, outside of the parent folder, because spikeinterface can't read when t0 and tcat files are inside the same folder. Optionally do not set the `-dest` parameter, and just delete the *g0_t0.imec.ap.bin\n",
    "- The 'run' parameter must not include \"g0\"\n",
    "- The destination folder must not exist, but the its parent folder must (In this case D:\\NPX_data\\M483 should exist, but **NOT** D:\\NPX_data\\M483\\M483-2024-01-22_tcat)\n"
   ]
  },
  {
   "cell_type": "code",
   "execution_count": 3,
   "id": "76c0e754",
   "metadata": {},
   "outputs": [
    {
     "ename": "AssertionError",
     "evalue": "Could not find imroTbl field in meta file!",
     "output_type": "error",
     "traceback": [
      "\u001b[1;31m---------------------------------------------------------------------------\u001b[0m",
      "\u001b[1;31mAssertionError\u001b[0m                            Traceback (most recent call last)",
      "Cell \u001b[1;32mIn[3], line 3\u001b[0m\n\u001b[0;32m      1\u001b[0m \u001b[38;5;66;03m# path to meta file\u001b[39;00m\n\u001b[0;32m      2\u001b[0m meta_filename \u001b[38;5;241m=\u001b[39m \u001b[38;5;124m'\u001b[39m\u001b[38;5;124mC:\u001b[39m\u001b[38;5;130;01m\\\\\u001b[39;00m\u001b[38;5;124mdata\u001b[39m\u001b[38;5;130;01m\\\\\u001b[39;00m\u001b[38;5;124mnsb2024\u001b[39m\u001b[38;5;130;01m\\\\\u001b[39;00m\u001b[38;5;124mM564_2024_07_09_NP2_4_Shanks_Anahat_Mario_Test_01_g0\u001b[39m\u001b[38;5;130;01m\\\\\u001b[39;00m\u001b[38;5;124mM564_2024_07_09_NP2_4_Shanks_Anahat_Mario_Test_01_g0_t0.nidq.meta\u001b[39m\u001b[38;5;124m'\u001b[39m\n\u001b[1;32m----> 3\u001b[0m probe \u001b[38;5;241m=\u001b[39m \u001b[43mpif\u001b[49m\u001b[38;5;241;43m.\u001b[39;49m\u001b[43mread_spikeglx\u001b[49m\u001b[43m(\u001b[49m\u001b[43mmeta_filename\u001b[49m\u001b[43m)\u001b[49m\n\u001b[0;32m      4\u001b[0m fig,ax \u001b[38;5;241m=\u001b[39m plt\u001b[38;5;241m.\u001b[39msubplots()\n\u001b[0;32m      5\u001b[0m plot_probe(probe, ax\u001b[38;5;241m=\u001b[39max)\n",
      "File \u001b[1;32m~\\miniconda3\\envs\\spikeinterface\\lib\\site-packages\\probeinterface\\io.py:1297\u001b[0m, in \u001b[0;36mread_spikeglx\u001b[1;34m(file)\u001b[0m\n\u001b[0;32m   1293\u001b[0m \u001b[38;5;28;01massert\u001b[39;00m meta_file\u001b[38;5;241m.\u001b[39msuffix \u001b[38;5;241m==\u001b[39m \u001b[38;5;124m\"\u001b[39m\u001b[38;5;124m.meta\u001b[39m\u001b[38;5;124m\"\u001b[39m, \u001b[38;5;124m\"\u001b[39m\u001b[38;5;124m'\u001b[39m\u001b[38;5;124mmeta_file\u001b[39m\u001b[38;5;124m'\u001b[39m\u001b[38;5;124m should point to the .meta SpikeGLX file\u001b[39m\u001b[38;5;124m\"\u001b[39m\n\u001b[0;32m   1295\u001b[0m meta \u001b[38;5;241m=\u001b[39m parse_spikeglx_meta(meta_file)\n\u001b[1;32m-> 1297\u001b[0m \u001b[38;5;28;01massert\u001b[39;00m \u001b[38;5;124m\"\u001b[39m\u001b[38;5;124mimroTbl\u001b[39m\u001b[38;5;124m\"\u001b[39m \u001b[38;5;129;01min\u001b[39;00m meta, \u001b[38;5;124m\"\u001b[39m\u001b[38;5;124mCould not find imroTbl field in meta file!\u001b[39m\u001b[38;5;124m\"\u001b[39m\n\u001b[0;32m   1298\u001b[0m imro_table \u001b[38;5;241m=\u001b[39m meta[\u001b[38;5;124m\"\u001b[39m\u001b[38;5;124mimroTbl\u001b[39m\u001b[38;5;124m\"\u001b[39m]\n\u001b[0;32m   1300\u001b[0m \u001b[38;5;66;03m# read serial number\u001b[39;00m\n",
      "\u001b[1;31mAssertionError\u001b[0m: Could not find imroTbl field in meta file!"
     ]
    }
   ],
   "source": [
    "# path to meta file\n",
    "meta_filename = 'C:\\\\data\\\\nsb2024\\\\M564_2024_07_09_NP2_4_Shanks_Anahat_Mario_Test_01_g0\\\\M564_2024_07_09_NP2_4_Shanks_Anahat_Mario_Test_01_g0_t0.nidq.meta'\n",
    "probe = pif.read_spikeglx(meta_filename)\n",
    "fig,ax = plt.subplots()\n",
    "plot_probe(probe, ax=ax)\n",
    "ax.set_aspect(0.1) # Change depending on the probe\n",
    "ax.set_ylim([-100, 5000]) # Change depending on the probe\n",
    "ax.set_title('NPX 2') # Change depending on the probe\n"
   ]
  },
  {
   "cell_type": "code",
   "execution_count": 4,
   "id": "98368a5e-5250-423b-b8d4-8c18d99855a3",
   "metadata": {},
   "outputs": [],
   "source": [
    "# Should point to the folder containing the tcat-ed .bin files\n",
    "raw_rec = si.read_spikeglx('C:\\\\data\\\\nsb2024\\\\preprocessed\\\\catgt_M564_2024_07_09_NP2_4_Shanks_Anahat_Mario_Test_01_g0\\\\', stream_name='imec0.ap')"
   ]
  },
  {
   "cell_type": "code",
   "execution_count": 5,
   "id": "2935ea67",
   "metadata": {},
   "outputs": [
    {
     "name": "stdout",
     "output_type": "stream",
     "text": [
      "bad_channel_ids, channel_labels\n"
     ]
    }
   ],
   "source": [
    "# raw_rec = si.phase_shift(raw_rec) # DO NOT APPLY phase_shift it tcat has already been applied\n",
    "rec1 = si.highpass_filter(raw_rec, freq_min=400.)\n",
    "bad_channel_ids, channel_labels = si.detect_bad_channels(rec1)\n",
    "print('bad_channel_ids, channel_labels')\n",
    "for bad_channel_id in bad_channel_ids:\n",
    "    index = int(bad_channel_id.split('AP')[1])\n",
    "    print('{}, {}'.format(bad_channel_id, channel_labels[index]))\n"
   ]
  },
  {
   "cell_type": "code",
   "execution_count": 6,
   "id": "8f271244-0cab-4f96-af6f-dcb5242e10e4",
   "metadata": {},
   "outputs": [
    {
     "data": {
      "text/plain": [
       "array(['imec0.ap#AP100'], dtype='<U64')"
      ]
     },
     "execution_count": 6,
     "metadata": {},
     "output_type": "execute_result"
    }
   ],
   "source": [
    "# Edit the bad_channel_ids array after cross-checking in SpiukeGLX viewer\n",
    "new_array = bad_channel_ids\n",
    "new_array = np.append(new_array, 'imec0.ap#AP100')\n",
    "new_array"
   ]
  },
  {
   "cell_type": "code",
   "execution_count": 7,
   "id": "29ef3a61",
   "metadata": {},
   "outputs": [],
   "source": [
    "# Channels labeled 'out' make sense in this case, not sure about the one marked 'dead' -- removing in any case (Confirm by viewing in SpikeGLX viewer)\n",
    "rec1  = rec1.remove_channels(bad_channel_ids)"
   ]
  },
  {
   "cell_type": "markdown",
   "id": "94670be5-e994-4afc-a87f-d3405e8c35cf",
   "metadata": {},
   "source": [
    "### Setup Kilosort parameters "
   ]
  },
  {
   "cell_type": "code",
   "execution_count": 7,
   "id": "6b905b35-0504-430e-96be-aefde8ba3f89",
   "metadata": {},
   "outputs": [
    {
     "name": "stdout",
     "output_type": "stream",
     "text": [
      "Setting KILOSORT2_5_PATH environment variable for subprocess calls to: C:\\Users\\mvdmlab\\Documents\\GitHub\\Kilosort-2.5\n"
     ]
    },
    {
     "data": {
      "text/plain": [
       "True"
      ]
     },
     "execution_count": 7,
     "metadata": {},
     "output_type": "execute_result"
    }
   ],
   "source": [
    "ks2_path = 'C:\\\\Users\\\\mvdmlab\\\\Documents\\\\GitHub\\\\Kilosort-2.5' # Change according to the system you are using\n",
    "si.Kilosort2_5Sorter.set_kilosort2_5_path(ks2_path)\n",
    "si.Kilosort2_5Sorter.is_installed() # Must return true, if not change the path accordingly"
   ]
  },
  {
   "cell_type": "code",
   "execution_count": 12,
   "id": "98862456-4715-45da-9184-2f50bb411359",
   "metadata": {},
   "outputs": [
    {
     "data": {
      "text/plain": [
       "{'detect_threshold': 6,\n",
       " 'projection_threshold': [10, 4],\n",
       " 'preclust_threshold': 8,\n",
       " 'momentum': [20.0, 400.0],\n",
       " 'car': True,\n",
       " 'minFR': 0.1,\n",
       " 'minfr_goodchannels': 0.1,\n",
       " 'nblocks': 5,\n",
       " 'sig': 20,\n",
       " 'freq_min': 150,\n",
       " 'sigmaMask': 30,\n",
       " 'lam': 10.0,\n",
       " 'nPCs': 3,\n",
       " 'ntbuff': 64,\n",
       " 'nfilt_factor': 4,\n",
       " 'NT': None,\n",
       " 'AUCsplit': 0.9,\n",
       " 'do_correction': True,\n",
       " 'wave_length': 61,\n",
       " 'keep_good_only': False,\n",
       " 'skip_kilosort_preprocessing': False,\n",
       " 'scaleproc': None,\n",
       " 'save_rez_to_mat': False,\n",
       " 'delete_tmp_files': ('matlab_files',),\n",
       " 'delete_recording_dat': False,\n",
       " 'n_jobs': 16,\n",
       " 'chunk_duration': '1s',\n",
       " 'progress_bar': True,\n",
       " 'mp_context': None,\n",
       " 'max_threads_per_process': 1}"
      ]
     },
     "execution_count": 12,
     "metadata": {},
     "output_type": "execute_result"
    }
   ],
   "source": [
    "ks2_5_params = si.get_default_sorter_params('kilosort2_5')\n",
    "ks2_5_params"
   ]
  },
  {
   "cell_type": "code",
   "execution_count": 13,
   "id": "ca8b8146-59d9-4cdb-95f0-f0ba0fe32026",
   "metadata": {},
   "outputs": [],
   "source": [
    "# Make any changes if needed to these params before dumping to json, example: ks2_params['detect_threshold'] = 4\n",
    "ks2_5_params['delete_recording_dat'] = True\n",
    "remote_params = {'bad_channels': bad_channel_ids.tolist(), 'ks2_5_params': ks2_5_params}"
   ]
  },
  {
   "cell_type": "markdown",
   "id": "573e1428-b046-4973-94f0-3856e3270ed8",
   "metadata": {
    "jp-MarkdownHeadingCollapsed": true
   },
   "source": [
    "## Running Kilosort remotely"
   ]
  },
  {
   "cell_type": "code",
   "execution_count": null,
   "id": "f3b34684-e0ff-4d2e-ae7b-f5efc8f29021",
   "metadata": {},
   "outputs": [],
   "source": [
    "# Save this where the catgt output folder is located\n",
    "f = open('E:\\\\RR2_NPX\\\\M465\\\\M465-2024-01-31\\\\catgt_M465-2024-01-31_g0\\\\remote_params.json', 'w')\n",
    "json.dump(remote_params, f, indent=4)\n",
    "f.close()"
   ]
  },
  {
   "cell_type": "code",
   "execution_count": null,
   "id": "d787944f-8d58-41d6-b02e-251dab5fd51b",
   "metadata": {},
   "outputs": [],
   "source": [
    "# Local Parameters\n",
    "remote_script_filepath = 'E:\\\\RR2_NPX\\\\M465\\\\M465-2024-01-31\\\\catgt_M465-2024-01-31_g0\\\\remote_sort.py' # Where the remote_sort.py lives inside the catgt output folder\n",
    "remote_params_filepath = 'E:\\\\RR2_NPX\\\\M465\\\\M465-2024-01-31\\\\catgt_M465-2024-01-31_g0\\\\remote_params.json' # Where remote_params.json lives\n",
    "bin_filepath = 'E:\\\\RR2_NPX\\\\M465\\\\M465-2024-01-31\\\\catgt_M465-2024-01-31_g0\\\\M465-2024-01-31_g0_tcat.imec0.ap.bin' # Where the catgt-ed bin file lives\n",
    "meta_filepath = 'E:\\\\RR2_NPX\\\\M465\\\\M465-2024-01-31\\\\catgt_M465-2024-01-31_g0\\\\M465-2024-01-31_g0_tcat.imec0.ap.meta' # Where the catgt-ed meta file lives\n",
    "local_dest_path = 'E:\\\\RR2_NPX\\\\M465\\\\M465-2024-01-31\\\\' # Destination to copy stuff back to"
   ]
  },
  {
   "cell_type": "code",
   "execution_count": null,
   "id": "5fb68062-eb8e-4f69-9675-76b614dc1163",
   "metadata": {},
   "outputs": [],
   "source": [
    "# SSH settings for the remote server with password-based authentication\n",
    "remote_server = {\n",
    "    'hostname': 'mvdmlab-deimos',\n",
    "    'username': 'kleaman',\n",
    "    'password': 'ozomatl1',\n",
    "    'dest_path': '/home/kleaman/incoming_ks2',\n",
    "    'conda_environment': 'spikeinterface',\n",
    "}\n",
    "# Connect to the remote server using password-based authentication\n",
    "remote_client = paramiko.SSHClient()\n",
    "remote_client.set_missing_host_key_policy(paramiko.AutoAddPolicy())"
   ]
  },
  {
   "cell_type": "code",
   "execution_count": null,
   "id": "737efc34-96cf-447a-a457-67fbde5feae9",
   "metadata": {},
   "outputs": [],
   "source": [
    "# Transfer all the required files in one go\n",
    "try:\n",
    "    remote_client.connect(\n",
    "        hostname=remote_server['hostname'],\n",
    "        username=remote_server['username'],\n",
    "        password=remote_server['password']\n",
    "    )\n",
    "    scp_client = SCPClient(remote_client.get_transport())\n",
    "    # Transfer the params file\n",
    "    scp_client.put(remote_script_filepath, remote_server['dest_path'], recursive=True)\n",
    "    # Transfer the params file\n",
    "    scp_client.put(remote_params_filepath, remote_server['dest_path'], recursive=True)\n",
    "    # Transfer the params file\n",
    "    scp_client.put(bin_filepath, remote_server['dest_path'], recursive=True)\n",
    "    # Transfer the params file\n",
    "    scp_client.put(meta_filepath, remote_server['dest_path'], recursive=True)\n",
    "    print( \"All files transferred\")\n",
    "\n",
    "except Exception as e:\n",
    "    print(e)\n",
    "\n",
    "finally:\n",
    "    # Close the SSH connection to the remote server\n",
    "    remote_client.close()"
   ]
  },
  {
   "cell_type": "markdown",
   "id": "ca7ecb10-3eb0-4f25-ad34-f89dcc6ab7c5",
   "metadata": {
    "jp-MarkdownHeadingCollapsed": true
   },
   "source": [
    "### Steps to run the script remotely\n",
    "1. Open an Anaconda **POWERSHELL** Prompt\n",
    "2. Type the following commands in order:\n",
    "   ```\n",
    "   ssh kleaman@mvdmlab-deimos\n",
    "\n",
    "\n",
    "   cd incoming_ks2\n",
    "   conda activate spikeinterface\n",
    "   python remote_sort.py\n",
    "```\n",
    "3. Do Not Close that prompt -- wait until it finishes"
   ]
  },
  {
   "cell_type": "code",
   "execution_count": null,
   "id": "d37f7931-91ea-4495-8628-2d963d0f321f",
   "metadata": {},
   "outputs": [],
   "source": [
    "# # Remotely run kilosort\n",
    "# try:\n",
    "#     remote_client.connect(\n",
    "#         hostname=remote_server['hostname'],\n",
    "#         username=remote_server['username'],\n",
    "#         password=remote_server['password']\n",
    "#     )\n",
    "#     command = f\"cd incoming_ks2 && source remote_run.sh\" #f\"source ~/incoming_ks2/remote_run.sh\" \n",
    "#     stdin, stdout, stderr = remote_client.exec_command(command)\n",
    "\n",
    "#     print (stderr.read().decode('utf-8'))\n",
    "#     # Wait for the command to finish executing\n",
    "#     exit_status = stdout.channel.recv_exit_status()\n",
    "    \n",
    "#     if exit_status != 0:\n",
    "#         print(\"Error running remote_sort.py on the remote server.\")\n",
    "#     else:\n",
    "#         print(\"remote_sort.py on the remote server has finished executing.\")\n",
    "# finally:\n",
    "#     # Close the SSH connection to the remote server\n",
    "#     remote_client.close()"
   ]
  },
  {
   "cell_type": "code",
   "execution_count": null,
   "id": "ded00379-23ec-4eb2-9c87-dc7736d9d604",
   "metadata": {},
   "outputs": [],
   "source": [
    "# Get back the kilosort output from the remote computer\n",
    "try:\n",
    "    remote_client.connect(\n",
    "        hostname=remote_server['hostname'],\n",
    "        username=remote_server['username'],\n",
    "        password=remote_server['password']\n",
    "    )\n",
    "    scp_client = SCPClient(remote_client.get_transport())\n",
    "    # Transfer the params file\n",
    "    scp_client.get('/ks2_t/ks2_5_output', local_dest_path, recursive=True)\n",
    "    print( \"All files transferred\")\n",
    "\n",
    "except Exception as e:\n",
    "    print(e)\n",
    "\n",
    "finally:\n",
    "    # Close the SSH connection to the remote server\n",
    "    remote_client.close()"
   ]
  },
  {
   "cell_type": "markdown",
   "id": "b404e5f3-ed93-4ee2-9921-6a94792f0601",
   "metadata": {
    "jp-MarkdownHeadingCollapsed": true
   },
   "source": [
    "### Steps after Kilosort output is back to the local computer\n",
    "1. Change params.py to point to the './temp_wh.dat' instead of whatever weird looking thing you see\n",
    "2. Using the powershell window that you used to login (if you closed it, login again), run the following commands:\n",
    "   ```\n",
    "   rm -rf ~/incoming_ks2/*\n",
    "\n",
    "   rm -rf /ks2_t/*\n",
    "   ```\n",
    "3. You can close the window now :)"
   ]
  },
  {
   "cell_type": "markdown",
   "id": "c4957b70",
   "metadata": {},
   "source": [
    "## Running Kilosort locally"
   ]
  },
  {
   "cell_type": "code",
   "execution_count": 10,
   "id": "ddc31e4f",
   "metadata": {},
   "outputs": [
    {
     "name": "stdout",
     "output_type": "stream",
     "text": [
      "write_binary_recording with n_jobs = 40 and chunk_size = 30000\n"
     ]
    },
    {
     "data": {
      "application/vnd.jupyter.widget-view+json": {
       "model_id": "312ce9f4f86e48aa95427a7e52cdf4d1",
       "version_major": 2,
       "version_minor": 0
      },
      "text/plain": [
       "write_binary_recording:   0%|          | 0/1564 [00:00<?, ?it/s]"
      ]
     },
     "metadata": {},
     "output_type": "display_data"
    }
   ],
   "source": [
    "# Kilosort needs a binary file and the code segment below achieves that (might take a while to run)\n",
    "\n",
    "si_working_folder = 'E:\\\\Temp-M465' # Make sure this folder exists\n",
    "job_kwargs = dict(n_jobs=40, chunk_duration='1s', progress_bar=True)\n",
    "rec1 = rec1.save(folder=os.path.join(si_working_folder, 'si_preprocess'), format='binary', **job_kwargs)\n",
    "this_rec = rec1"
   ]
  },
  {
   "cell_type": "code",
   "execution_count": null,
   "id": "d9421cae",
   "metadata": {},
   "outputs": [],
   "source": [
    "# Run the below cell only if the jupyter notebook session was restarted after writing the binary file\n",
    "\n",
    "# # The binary file written by si has certain details missing. These need to be filled up from rec1 (filtered and bad chanels removed)\n",
    "# # for Kilosort to work properly\n",
    "# si_working_folder = 'E:\\\\Temp\\\\si_preprocess' # Where the binary file is written by SpikeInterface is present\n",
    "# this_rec  = si.read_binary(os.path.join(si_working_folder, 'traces_cached_seg0.raw'), sampling_frequency=rec1.get_sampling_frequency(), \\\n",
    "#                            dtype='int16', num_channels=rec1.get_num_channels())\n",
    "# this_rec.annotate(is_filtered=rec1.is_filtered())\n",
    "# for key in rec1.get_property_keys():\n",
    "#     this_rec.set_property(key, rec1.get_property(key))\n",
    "# this_rec.set_channel_gains(rec1.get_channel_gains())\n",
    "# this_rec.set_probe(rec1.get_probe())\n",
    "# this_rec.annotate(probes_info=rec1.get_annotation('probes_info'))\n",
    "# this_rec.annotate(probe_0_planar_contour=rec1.get_annotation('probe_0_planar_contour'))"
   ]
  },
  {
   "cell_type": "code",
   "execution_count": 14,
   "id": "f1483b21",
   "metadata": {
    "scrolled": true
   },
   "outputs": [
    {
     "name": "stdout",
     "output_type": "stream",
     "text": [
      "RUNNING SHELL SCRIPT: E:\\Temp-M465\\ks2_output\\sorter_output\\run_kilosort2_5.bat\n",
      "\n",
      "\n",
      "C:\\Users\\mvdmlab\\Documents\\Manish\\odor-pixels\\pre-processing>E:\n",
      "\n",
      "\n",
      "\n",
      "E:\\>cd E:\\Temp-M465\\ks2_output\\sorter_output \n",
      "\n",
      "\n",
      "\n",
      "E:\\Temp-M465\\ks2_output\\sorter_output>matlab -nosplash -wait -r \"kilosort2_5_master('E:\\Temp-M465\\ks2_output\\sorter_output', 'C:\\Users\\mvdmlab\\Documents\\GitHub\\Kilosort-2.5')\" \n",
      "\n",
      "kilosort2_5 run time 1291.06s\n"
     ]
    }
   ],
   "source": [
    "ks_working_folder = 'E:\\\\Temp-M465' # This should be the fastest SSD for best results \n",
    "sorting = si.run_sorter('kilosort2_5', this_rec, output_folder=os.path.join(ks_working_folder, 'ks2_output'),\n",
    "                        verbose=True, remove_existing_folder=False, **ks2_5_params)"
   ]
  },
  {
   "cell_type": "markdown",
   "id": "f4e507e7-3cec-4f05-ac8d-0c7bf43e4c50",
   "metadata": {},
   "source": [
    "##  Do manual sorting using phy"
   ]
  },
  {
   "cell_type": "code",
   "execution_count": 6,
   "id": "e237a636-807e-49bf-8736-1a0218dd07aa",
   "metadata": {},
   "outputs": [
    {
     "data": {
      "text/plain": [
       "KiloSortSortingExtractor: 276 units - 1 segments - 30.0kHz"
      ]
     },
     "execution_count": 6,
     "metadata": {},
     "output_type": "execute_result"
    }
   ],
   "source": [
    "# The path should point to the folder that contains phy output\n",
    "this_rec = rec1 # rec1 is the filtered recording, with the bad channels removed\n",
    "sorting = si.KiloSortSortingExtractor(folder_path='E:\\\\Temp-M465\\\\ks2_output\\sorter_output')\n",
    "sorting"
   ]
  },
  {
   "cell_type": "code",
   "execution_count": 8,
   "id": "df781716-42b8-4ad8-b443-3158d63f2591",
   "metadata": {},
   "outputs": [],
   "source": [
    "# Run the following cell **ONLY** if the notebook was restarted after manual curation\n",
    "\n",
    "# # This has to match the the details from temp_wh.dat, which is the binary file written\n",
    "# # by Kilosort. This has to be appended with the appropriate channel ids and channel_locations\n",
    "# # using rec2 that has the bad channels removed\n",
    "# this_rec  = si.read_binary('E:\\\\Temp-M465\\\\ks2_output\\\\sorter_output\\\\temp_wh.dat', sampling_frequency=rec1.get_sampling_frequency(), \\\n",
    "#                            dtype='int16', num_channels=rec1.get_num_channels())\n",
    "# this_rec.annotate(is_filtered=rec1.is_filtered())\n",
    "# for key in rec1.get_property_keys():\n",
    "#     this_rec.set_property(key, rec1.get_property(key))\n",
    "# this_rec.set_channel_gains(rec1.get_channel_gains())\n",
    "# this_rec.set_probe(rec1.get_probe())\n",
    "# this_rec.annotate(probes_info=rec1.get_annotation('probes_info'))\n",
    "# this_rec.annotate(probe_0_planar_contour=rec1.get_annotation('probe_0_planar_contour'))\n",
    "# sorting.register_recording(this_rec)"
   ]
  },
  {
   "cell_type": "markdown",
   "id": "83646b60-db86-4897-b32b-45e7a93d776e",
   "metadata": {},
   "source": [
    "## Collating information about clean cells"
   ]
  },
  {
   "cell_type": "code",
   "execution_count": 9,
   "id": "a4373b3f-d503-4ccd-97e0-d7c75088c494",
   "metadata": {},
   "outputs": [],
   "source": [
    "# KSlabel is Kilosort label, quality is user annotated\n",
    "keep_idx = np.where(sorting.get_property('quality') == 'good')[0] # np.wher returns a tuple, so the extra '[0]'\n",
    "keep_units = sorting.unit_ids[keep_idx]"
   ]
  },
  {
   "cell_type": "code",
   "execution_count": 11,
   "id": "590302a2-45e6-4602-a066-b5cd5b739792",
   "metadata": {},
   "outputs": [],
   "source": [
    "clean_units = sorting.select_units(keep_units)\n",
    "clean_spike_train = [clean_units.get_unit_spike_train(x)/clean_units.get_sampling_frequency() \\\n",
    "    for x in clean_units.unit_ids]\n",
    "clean_channel_ids = [str(x) for x in keep_units]\n",
    "# If 2 probes are being used, prefix 'imec0_' and 'imec1_' to the respective channel_ids\n",
    "clean_channel_ids = ['imec0_'+x for x in clean_channel_ids]\n",
    "clean_depths = clean_units.get_property('depth')"
   ]
  },
  {
   "cell_type": "markdown",
   "id": "0cc54319",
   "metadata": {},
   "source": [
    "### The below code is to extract the waveforms of the curated neurons"
   ]
  },
  {
   "cell_type": "code",
   "execution_count": 12,
   "id": "4bc5d1fc",
   "metadata": {},
   "outputs": [
    {
     "data": {
      "application/vnd.jupyter.widget-view+json": {
       "model_id": "c711e9d5a199463790546e5a1167d573",
       "version_major": 2,
       "version_minor": 0
      },
      "text/plain": [
       "extract waveforms shared_memory multi buffer:   0%|          | 0/1564 [00:00<?, ?it/s]"
      ]
     },
     "metadata": {},
     "output_type": "display_data"
    },
    {
     "data": {
      "application/vnd.jupyter.widget-view+json": {
       "model_id": "4f7d2eb158b04d54af903415fe7eccbf",
       "version_major": 2,
       "version_minor": 0
      },
      "text/plain": [
       "extract waveforms memmap multi buffer:   0%|          | 0/1564 [00:00<?, ?it/s]"
      ]
     },
     "metadata": {},
     "output_type": "display_data"
    }
   ],
   "source": [
    "job_kwargs = dict(n_jobs=40, chunk_duration='1s', progress_bar=True)\n",
    "# the folder mentioned below must not exist\n",
    "curated_wv = si.extract_waveforms(this_rec, clean_units, \"E:\\\\Temp-M465\\\\si_waveforms\", **job_kwargs)\n",
    "# The waveforms are in the shape max(500, nspikes), a variable number of  channels, timepoints\n",
    "clean_waveforms = [np.mean(curated_wv.get_waveforms(x), axis=0).T for x in clean_units.unit_ids]"
   ]
  },
  {
   "cell_type": "markdown",
   "id": "2b7a63b8-9e8d-40aa-9225-c9c488005214",
   "metadata": {},
   "source": [
    "### Saving as mat-files"
   ]
  },
  {
   "cell_type": "code",
   "execution_count": 13,
   "id": "f075de7a",
   "metadata": {},
   "outputs": [],
   "source": [
    "spikes_mat_fname = 'E:\\\\Temp-M465\\\\clean units_imec0.mat' # add imec0 or imec1 if 2 probes\n",
    "scio.savemat(spikes_mat_fname, {'depths': clean_depths, 'channel_ids': clean_channel_ids, \\\n",
    "    'spike_train': clean_spike_train, 'clean_waveforms': clean_waveforms})\n",
    "\n",
    "# TODO: Have a matlab script to load this into the ts format, \n",
    "# and the actual depths need to be calculated by subtracting from the recording depth"
   ]
  },
  {
   "cell_type": "markdown",
   "id": "1745b321-3d2d-4a0e-9a6f-e3f30b1111b0",
   "metadata": {},
   "source": [
    "# Run the following if there is a second probe"
   ]
  },
  {
   "cell_type": "code",
   "execution_count": 3,
   "id": "676d4220-bd70-4f89-b683-6f9e26d9717f",
   "metadata": {},
   "outputs": [
    {
     "data": {
      "text/plain": [
       "Text(0.5, 1.0, 'NPX 1')"
      ]
     },
     "execution_count": 3,
     "metadata": {},
     "output_type": "execute_result"
    },
    {
     "data": {
      "image/png": "[encoded data removed]",
      "text/plain": [
       "<Figure size 640x480 with 1 Axes>"
      ]
     },
     "metadata": {},
     "output_type": "display_data"
    }
   ],
   "source": [
    "# path to meta file\n",
    "meta_filename = 'D:\\\\NPX_Data\\\\OdorPixels\\\\Pilot1\\\\M465\\\\preprocessed\\\\M465-2024-02-02\\\\catgt_M465-2024-02-02_g0\\\\M465-2024-02-02_g0_tcat.imec1.ap.meta'\n",
    "probe = pif.read_spikeglx(meta_filename)\n",
    "fig,ax = plt.subplots()\n",
    "plot_probe(probe, ax=ax)\n",
    "ax.set_aspect(0.1) # Change depending on the probe\n",
    "ax.set_ylim([-100, 5000]) # Change depending on the probe\n",
    "ax.set_title('NPX 1') # Change depending on the probe"
   ]
  },
  {
   "cell_type": "code",
   "execution_count": 4,
   "id": "40bb63d4-0e8b-4790-b407-e09a40fc8f16",
   "metadata": {},
   "outputs": [],
   "source": [
    "# Should point to the folder containing the tcat-ed .bin files\n",
    "raw_rec2 = si.read_spikeglx('D:\\\\NPX_Data\\\\OdorPixels\\\\Pilot1\\\\M465\\\\preprocessed\\\\M465-2024-02-02\\\\catgt_M465-2024-02-02_g0', stream_name='imec1.ap')"
   ]
  },
  {
   "cell_type": "code",
   "execution_count": 5,
   "id": "0fbb2d78-5d22-49c3-8665-ee33aad41160",
   "metadata": {},
   "outputs": [
    {
     "name": "stdout",
     "output_type": "stream",
     "text": [
      "bad_channel_ids, channel_labels\n",
      "imec1.ap#AP191, dead\n"
     ]
    }
   ],
   "source": [
    "# raw_rec2 = si.phase_shift(raw_rec2) # DO NOT APPLY phase_shift it tcat has already been applied\n",
    "rec2 = si.highpass_filter(raw_rec2, freq_min=400.)\n",
    "bad_channel_ids2, channel_labels2 = si.detect_bad_channels(rec2)\n",
    "print('bad_channel_ids, channel_labels')\n",
    "for bad_channel_id in bad_channel_ids2:\n",
    "    index = int(bad_channel_id.split('AP')[1])\n",
    "    print('{}, {}'.format(bad_channel_id, channel_labels2[index]))"
   ]
  },
  {
   "cell_type": "code",
   "execution_count": null,
   "id": "23c4be56-22cd-49fb-aae2-eb4024a69574",
   "metadata": {},
   "outputs": [],
   "source": [
    "# Edit the bad_channel_ids array after cross-checking in SpiukeGLX viewer\n",
    "new_array = bad_channel_ids2\n",
    "new_array = np.append(new_array, 'imec0.ap#AP100')\n",
    "new_array"
   ]
  },
  {
   "cell_type": "code",
   "execution_count": 6,
   "id": "c425168c-3993-429a-a2de-0165a8c5c377",
   "metadata": {},
   "outputs": [],
   "source": [
    "# Channels labeled 'out' make sense in this case, not sure about the one marked 'dead' -- removing in any case (Confirm by viewing in SpikeGLX viewer)\n",
    "rec2  = rec2.remove_channels(bad_channel_ids2)"
   ]
  },
  {
   "cell_type": "markdown",
   "id": "e945091d-0007-487a-bdb8-d65d92efa880",
   "metadata": {
    "jp-MarkdownHeadingCollapsed": true
   },
   "source": [
    "### Setup Kilosort parameters "
   ]
  },
  {
   "cell_type": "code",
   "execution_count": 29,
   "id": "549aa2c1-99a5-4957-93b9-b3940d855d74",
   "metadata": {},
   "outputs": [
    {
     "name": "stdout",
     "output_type": "stream",
     "text": [
      "Setting KILOSORT2_5_PATH environment variable for subprocess calls to: C:\\Users\\mvdmlab\\Documents\\GitHub\\Kilosort-2.5\n"
     ]
    },
    {
     "data": {
      "text/plain": [
       "True"
      ]
     },
     "execution_count": 29,
     "metadata": {},
     "output_type": "execute_result"
    }
   ],
   "source": [
    "ks2_path = 'C:\\\\Users\\\\mvdmlab\\\\Documents\\\\GitHub\\\\Kilosort-2.5' # Change according to the system you are using\n",
    "si.Kilosort2_5Sorter.set_kilosort2_5_path(ks2_path)\n",
    "si.Kilosort2_5Sorter.is_installed() # Must return true, if not change the path accordingly"
   ]
  },
  {
   "cell_type": "code",
   "execution_count": 30,
   "id": "2dc47260-cc39-43eb-9b84-d71656b40ce5",
   "metadata": {},
   "outputs": [
    {
     "data": {
      "text/plain": [
       "{'detect_threshold': 6,\n",
       " 'projection_threshold': [10, 4],\n",
       " 'preclust_threshold': 8,\n",
       " 'momentum': [20.0, 400.0],\n",
       " 'car': True,\n",
       " 'minFR': 0.1,\n",
       " 'minfr_goodchannels': 0.1,\n",
       " 'nblocks': 5,\n",
       " 'sig': 20,\n",
       " 'freq_min': 150,\n",
       " 'sigmaMask': 30,\n",
       " 'lam': 10.0,\n",
       " 'nPCs': 3,\n",
       " 'ntbuff': 64,\n",
       " 'nfilt_factor': 4,\n",
       " 'NT': None,\n",
       " 'AUCsplit': 0.9,\n",
       " 'do_correction': True,\n",
       " 'wave_length': 61,\n",
       " 'keep_good_only': False,\n",
       " 'skip_kilosort_preprocessing': False,\n",
       " 'scaleproc': None,\n",
       " 'save_rez_to_mat': False,\n",
       " 'delete_tmp_files': ('matlab_files',),\n",
       " 'delete_recording_dat': False,\n",
       " 'n_jobs': 16,\n",
       " 'chunk_duration': '1s',\n",
       " 'progress_bar': True,\n",
       " 'mp_context': None,\n",
       " 'max_threads_per_process': 1}"
      ]
     },
     "execution_count": 30,
     "metadata": {},
     "output_type": "execute_result"
    }
   ],
   "source": [
    "ks2_5_params = si.get_default_sorter_params('kilosort2_5')\n",
    "ks2_5_params"
   ]
  },
  {
   "cell_type": "code",
   "execution_count": 31,
   "id": "7f94579d-a44a-474a-8878-26386d1a5190",
   "metadata": {},
   "outputs": [],
   "source": [
    "# Make any changes if needed to these params before dumping to json, example: ks2_params['detect_threshold'] = 4\n",
    "ks2_5_params['delete_recording_dat'] = True\n",
    "remote_params = {'bad_channels': bad_channel_ids.tolist(), 'ks2_params': ks2_5_params}"
   ]
  },
  {
   "cell_type": "markdown",
   "id": "e755d8a0-f45b-4232-88ec-128034af1da2",
   "metadata": {
    "jp-MarkdownHeadingCollapsed": true
   },
   "source": [
    "## Running Kilosort remotely"
   ]
  },
  {
   "cell_type": "code",
   "execution_count": null,
   "id": "395fcff5-0b03-423b-8c23-6a93bf2e3eea",
   "metadata": {},
   "outputs": [],
   "source": [
    "# Save this where the catgt output folder is located\n",
    "f = open('E:\\\\RR2_NPX\\\\M465\\\\M465-2024-01-31\\\\catgt_M465-2024-01-31_g0\\\\remote_params.json', 'w')\n",
    "json.dump(remote_params, f, indent=4)\n",
    "f.close()"
   ]
  },
  {
   "cell_type": "code",
   "execution_count": null,
   "id": "197971f5-65a2-41ba-8768-215cd58ce623",
   "metadata": {},
   "outputs": [],
   "source": [
    "# Local Parameters\n",
    "remote_script_filepath = 'E:\\\\RR2_NPX\\\\M465\\\\M465-2024-02-01\\\\catgt_M465-2024-02-01_g0\\\\remote_sort.py' # Where the remote_sort.py lives inside the catgt output folder\n",
    "remote_params_filepath = 'E:\\\\RR2_NPX\\\\M465\\\\M465-2024-02-01\\\\catgt_M465-2024-02-01_g0\\\\remote_params.json' # Where remote_params.json lives\n",
    "bin_filepath = 'E:\\\\RR2_NPX\\\\M465\\\\M465-2024-02-01\\\\catgt_M465-2024-02-01_g0\\\\M465-2024-02-01_g0_tcat.imec1.ap.bin' # Where the catgt-ed bin file lives\n",
    "meta_filepath = 'E:\\\\RR2_NPX\\\\M465\\\\M465-2024-02-01\\\\catgt_M465-2024-02-01_g0\\\\M465-2024-02-01_g0_tcat.imec1.ap.meta' # Where the catgt-ed meta file lives\n",
    "local_dest_path = 'E:\\\\RR2_NPX\\\\M465\\\\M465-2024-02-01\\\\probe2\\\\' # Destination to copy stuff back to, might have to create this folder"
   ]
  },
  {
   "cell_type": "code",
   "execution_count": null,
   "id": "ef6b9cc4-6e55-4051-9a7e-fba20980f9f8",
   "metadata": {},
   "outputs": [],
   "source": [
    "# SSH settings for the remote server with password-based authentication\n",
    "remote_server = {\n",
    "    'hostname': 'mvdmlab-deimos',\n",
    "    'username': 'kleaman',\n",
    "    'password': 'ozomatl1',\n",
    "    'dest_path': '/home/kleaman/incoming_ks2',\n",
    "    'conda_environment': 'spikeinterface',\n",
    "}\n",
    "# Connect to the remote server using password-based authentication\n",
    "remote_client = paramiko.SSHClient()\n",
    "remote_client.set_missing_host_key_policy(paramiko.AutoAddPolicy())"
   ]
  },
  {
   "cell_type": "code",
   "execution_count": null,
   "id": "391fb050-13d0-493b-a71f-89215e7a0727",
   "metadata": {},
   "outputs": [],
   "source": [
    "# Transfer all the required files in one go\n",
    "try:\n",
    "    remote_client.connect(\n",
    "        hostname=remote_server['hostname'],\n",
    "        username=remote_server['username'],\n",
    "        password=remote_server['password']\n",
    "    )\n",
    "    scp_client = SCPClient(remote_client.get_transport())\n",
    "    # Transfer the params file\n",
    "    scp_client.put(remote_script_filepath, remote_server['dest_path'], recursive=True)\n",
    "    # Transfer the params file\n",
    "    scp_client.put(remote_params_filepath, remote_server['dest_path'], recursive=True)\n",
    "    # Transfer the params file\n",
    "    scp_client.put(bin_filepath, remote_server['dest_path'], recursive=True)\n",
    "    # Transfer the params file\n",
    "    scp_client.put(meta_filepath, remote_server['dest_path'], recursive=True)\n",
    "    print( \"All files transferred\")\n",
    "\n",
    "except Exception as e:\n",
    "    print(e)\n",
    "\n",
    "finally:\n",
    "    # Close the SSH connection to the remote server\n",
    "    remote_client.close()"
   ]
  },
  {
   "cell_type": "markdown",
   "id": "ff22e2c0-5bfc-40d4-84f6-02fde65c57e0",
   "metadata": {},
   "source": [
    "### Steps to run the script remotely\n",
    "1. Open an Anaconda **POWERSHELL** Prompt\n",
    "2. Type the following commands in order:\n",
    "   ```\n",
    "   ssh kleaman@mvdmlab-deimos\n",
    "\n",
    "\n",
    "   cd incoming_ks2\n",
    "   conda activate spikeinterface\n",
    "   python remote_sort.py\n",
    "```\n",
    "3. Do Not Close that prompt -- wait until it finishes"
   ]
  },
  {
   "cell_type": "code",
   "execution_count": null,
   "id": "7aa3e61b-3caa-4fae-b36e-dab608c7f22e",
   "metadata": {},
   "outputs": [],
   "source": [
    "# # Remotely run kilosort\n",
    "# try:\n",
    "#     remote_client.connect(\n",
    "#         hostname=remote_server['hostname'],\n",
    "#         username=remote_server['username'],\n",
    "#         password=remote_server['password']\n",
    "#     )\n",
    "#     command = f\"cd incoming_ks2 && source remote_run.sh\" #f\"source ~/incoming_ks2/remote_run.sh\" \n",
    "#     stdin, stdout, stderr = remote_client.exec_command(command)\n",
    "\n",
    "#     print (stderr.read().decode('utf-8'))\n",
    "#     # Wait for the command to finish executing\n",
    "#     exit_status = stdout.channel.recv_exit_status()\n",
    "    \n",
    "#     if exit_status != 0:\n",
    "#         print(\"Error running remote_sort.py on the remote server.\")\n",
    "#     else:\n",
    "#         print(\"remote_sort.py on the remote server has finished executing.\")\n",
    "# finally:\n",
    "#     # Close the SSH connection to the remote server\n",
    "#     remote_client.close()"
   ]
  },
  {
   "cell_type": "code",
   "execution_count": null,
   "id": "1dbcb8e3-aef6-4f8a-b4ac-b585b9f0b2cd",
   "metadata": {},
   "outputs": [],
   "source": [
    "# Get back the kilosort output from the remote computer\n",
    "try:\n",
    "    remote_client.connect(\n",
    "        hostname=remote_server['hostname'],\n",
    "        username=remote_server['username'],\n",
    "        password=remote_server['password']\n",
    "    )\n",
    "    scp_client = SCPClient(remote_client.get_transport())\n",
    "    # Transfer the params file\n",
    "    scp_client.get('/ks2_t/ks2_5_output', local_dest_path, recursive=True)\n",
    "    print( \"All files transferred\")\n",
    "\n",
    "except Exception as e:\n",
    "    print(e)\n",
    "\n",
    "finally:\n",
    "    # Close the SSH connection to the remote server\n",
    "    remote_client.close()"
   ]
  },
  {
   "cell_type": "markdown",
   "id": "66b03b39-8edb-4696-958b-06e839b71bff",
   "metadata": {},
   "source": [
    "### Steps after Kilosort output is back to the local computer\n",
    "1. Change params.py to point to the './temp_wh.dat' instead of whatever weird looking thing you see\n",
    "2. Using the powershell window that you used to login (if you closed it, login again), run the following commands:\n",
    "   ```\n",
    "   rm -rf ~/incoming_ks2/*\n",
    "\n",
    "   rm -rf /ks2_t/*\n",
    "   ```\n",
    "3. You can close the window now :)\n",
    "4. Some renaming and moving steps"
   ]
  },
  {
   "cell_type": "markdown",
   "id": "6a8e8c9d-3528-461a-8cd0-713cbd2bb86f",
   "metadata": {},
   "source": [
    "## Running Kilosort locally"
   ]
  },
  {
   "cell_type": "code",
   "execution_count": 32,
   "id": "3de0f958-e28a-473e-be75-0b630387fffd",
   "metadata": {},
   "outputs": [
    {
     "name": "stdout",
     "output_type": "stream",
     "text": [
      "write_binary_recording with n_jobs = 40 and chunk_size = 30000\n"
     ]
    },
    {
     "data": {
      "application/vnd.jupyter.widget-view+json": {
       "model_id": "c701216d2ccd4244b4ab819f8c8a5f83",
       "version_major": 2,
       "version_minor": 0
      },
      "text/plain": [
       "write_binary_recording:   0%|          | 0/1515 [00:00<?, ?it/s]"
      ]
     },
     "metadata": {},
     "output_type": "display_data"
    }
   ],
   "source": [
    "si_working_folder = 'E:\\\\Temp' # Make sure this folder exists\n",
    "job_kwargs = dict(n_jobs=40, chunk_duration='1s', progress_bar=True)\n",
    "rec2 = rec2.save(folder=os.path.join(si_working_folder, 'si_preprocess2'), format='binary', **job_kwargs)\n",
    "this_rec2 = rec2"
   ]
  },
  {
   "cell_type": "code",
   "execution_count": 24,
   "id": "e18fadd1-128a-4bd5-80a8-60bf0fe09d44",
   "metadata": {},
   "outputs": [],
   "source": [
    "# Run the below cell only if the jupyter notebook session was restarted after writing the binary file\n",
    "\n",
    "# The binary file written by si has certain details missing. These need to be filled up from rec1 (filtered and bad chanels removed)\n",
    "# for Kilosort to work properly\n",
    "# si_working_folder = 'E:\\\\Temp\\\\si_preprocess2' # Where the binary file is written by SpikeInterface is present\n",
    "# this_rec2  = si.read_binary(os.path.join(si_working_folder, 'traces_cached_seg0.raw'), sampling_frequency=rec2.get_sampling_frequency(), \\\n",
    "#                            dtype='int16', num_channels=rec2.get_num_channels())\n",
    "# this_rec2.annotate(is_filtered=rec2.is_filtered())\n",
    "# for key in rec2.get_property_keys():\n",
    "#     this_rec2.set_property(key, rec2.get_property(key))\n",
    "# this_rec2.set_channel_gains(rec2.get_channel_gains())\n",
    "# this_rec2.set_probe(rec2.get_probe())\n",
    "# this_rec2.annotate(probes_info=rec2.get_annotation('probes_info'))\n",
    "# this_rec2.annotate(probe_0_planar_contour=rec2.get_annotation('probe_0_planar_contour'))"
   ]
  },
  {
   "cell_type": "code",
   "execution_count": 33,
   "id": "71ae8755-ae61-4105-96ab-8ddad87de167",
   "metadata": {},
   "outputs": [
    {
     "name": "stdout",
     "output_type": "stream",
     "text": [
      "RUNNING SHELL SCRIPT: E:\\Temp\\ks2_output2\\sorter_output\\run_kilosort2_5.bat\n",
      "\n",
      "\n",
      "C:\\Users\\mvdmlab\\Documents\\Manish\\odor-pixels\\pre-processing>E:\n",
      "\n",
      "\n",
      "\n",
      "E:\\>cd E:\\Temp\\ks2_output2\\sorter_output \n",
      "\n",
      "\n",
      "\n",
      "E:\\Temp\\ks2_output2\\sorter_output>matlab -nosplash -wait -r \"kilosort2_5_master('E:\\Temp\\ks2_output2\\sorter_output', 'C:\\Users\\mvdmlab\\Documents\\GitHub\\Kilosort-2.5')\" \n",
      "\n",
      "kilosort2_5 run time 1330.34s\n"
     ]
    }
   ],
   "source": [
    "ks_working_folder = 'E:\\\\Temp' # This should be the fastest SSD for best results \n",
    "sorting = si.run_sorter('kilosort2_5', this_rec, output_folder=os.path.join(ks_working_folder, 'ks2_output2'),\n",
    "                        verbose=True, remove_existing_folder=False, **ks2_5_params)"
   ]
  },
  {
   "cell_type": "markdown",
   "id": "492a71e2-fafa-4b30-a2d5-070028d72d8a",
   "metadata": {},
   "source": [
    "## TPrime adjustment of 2nd probe spike times\n",
    "\n",
    "- Convert the spike_times.npy into timestamps from samples\n",
    "- Use TPrime to adjust these 'timestamps'\n",
    "- Convert adjusted timestamps back to samples for phy curation"
   ]
  },
  {
   "cell_type": "code",
   "execution_count": 9,
   "id": "7afcfee7-d163-4d9d-b40a-1256594ea072",
   "metadata": {},
   "outputs": [],
   "source": [
    "# Convert spike_times (samples) to spike_timestamps\n",
    "ks_outpath = 'E:\\\\Temp-M465\\\\ks2_output2\\\\sorter_output\\\\' # Path to where Kilosort's outputs live\n",
    "spike_timestamps = np.load(ks_outpath+'spike_times.npy') * raw_rec.get_sampling_frequency()\n",
    "np.save(ks_outpath + 'spike_timestamps.npy', spike_timestamps)"
   ]
  },
  {
   "cell_type": "markdown",
   "id": "52c2d9ce-877c-425c-a1ca-615451b82aa6",
   "metadata": {},
   "source": [
    "C:\\TPrime-win/TPrime.exe -syncperiod='1.0' -tostream='D:\\NPX_Data\\OdorPixels\\Pilot1\\M465\\preprocessed\\M465-2024-02-02\\catgt_M465-2024-02-02_g0\\M465-2024-02-02_g0_tcat.imec0.ap.xd_384_6_500.txt' -fromstream='5,D:\\NPX_Data\\OdorPixels\\Pilot1\\M465\\preprocessed\\M465-2024-02-02\\catgt_M465-2024-02-02_g0\\M465-2024-02-02_g0_tcat.imec1.ap.xd_384_6_500.txt' -events='5,E:\\Temp-M465\\ks2_output2\\sorter_output\\spike_timestamps.npy,E:\\Temp\\ks2_output2\\sorter_output\\adj_spike_timestamps.npy'"
   ]
  },
  {
   "cell_type": "code",
   "execution_count": 10,
   "id": "e83a58f0-5397-495c-9c5d-329961a4f4f5",
   "metadata": {},
   "outputs": [],
   "source": [
    "# Convert new_spike_timestamps (seconds) to samples to work with Phy\n",
    "ks_outpath = 'E:\\\\Temp-M465\\\\ks2_output2\\\\sorter_output\\\\' # Path to where Kilosort's outputs live\n",
    "spike_times = np.load(ks_outpath+'adj_spike_timestamps.npy') / raw_rec.get_sampling_frequency()\n",
    "np.save(ks_outpath + 'new_spike_times.npy', spike_times)"
   ]
  },
  {
   "cell_type": "markdown",
   "id": "50e7d07d-0201-478e-8b18-c23a81769ffb",
   "metadata": {},
   "source": [
    "### Cleanup\n",
    "- Rename spike_times.npy to old_spike_times.npy\n",
    "- Rename new_spike_times.npy to spike_times.npy \n",
    "- Delete 'spike_timestamps.npy' and 'adj_spike_timestamps.npy'"
   ]
  },
  {
   "cell_type": "markdown",
   "id": "8ce8b73a-1407-42ef-be1c-91a5266b90ce",
   "metadata": {},
   "source": [
    "## Do Manual curation using phy"
   ]
  },
  {
   "cell_type": "code",
   "execution_count": 12,
   "id": "8f95f2d3-2416-4acf-aea6-12848a7dd699",
   "metadata": {},
   "outputs": [
    {
     "ename": "NameError",
     "evalue": "name 'rec2' is not defined",
     "output_type": "error",
     "traceback": [
      "\u001b[1;31m---------------------------------------------------------------------------\u001b[0m",
      "\u001b[1;31mNameError\u001b[0m                                 Traceback (most recent call last)",
      "Cell \u001b[1;32mIn[12], line 6\u001b[0m\n\u001b[0;32m      1\u001b[0m \u001b[38;5;66;03m# Run the following cell **ONLY** if the notebook was restarted after manual curation\u001b[39;00m\n\u001b[0;32m      2\u001b[0m \n\u001b[0;32m      3\u001b[0m \u001b[38;5;66;03m# # This has to match the the details from temp_wh.dat, which is the binary file written\u001b[39;00m\n\u001b[0;32m      4\u001b[0m \u001b[38;5;66;03m# # by Kilosort. This has to be appended with the appropriate channel ids and channel_locations\u001b[39;00m\n\u001b[0;32m      5\u001b[0m \u001b[38;5;66;03m# # using rec2 that has the bad channels removed\u001b[39;00m\n\u001b[1;32m----> 6\u001b[0m this_rec2  \u001b[38;5;241m=\u001b[39m si\u001b[38;5;241m.\u001b[39mread_binary(\u001b[38;5;124m'\u001b[39m\u001b[38;5;124mE:\u001b[39m\u001b[38;5;130;01m\\\\\u001b[39;00m\u001b[38;5;124mTemp-M465\u001b[39m\u001b[38;5;130;01m\\\\\u001b[39;00m\u001b[38;5;124mks2_output2\u001b[39m\u001b[38;5;130;01m\\\\\u001b[39;00m\u001b[38;5;124msorter_output\u001b[39m\u001b[38;5;130;01m\\\\\u001b[39;00m\u001b[38;5;124mtemp_wh.dat\u001b[39m\u001b[38;5;124m'\u001b[39m, sampling_frequency\u001b[38;5;241m=\u001b[39m\u001b[43mrec2\u001b[49m\u001b[38;5;241m.\u001b[39mget_sampling_frequency(), \\\n\u001b[0;32m      7\u001b[0m                            dtype\u001b[38;5;241m=\u001b[39m\u001b[38;5;124m'\u001b[39m\u001b[38;5;124mint16\u001b[39m\u001b[38;5;124m'\u001b[39m, num_channels\u001b[38;5;241m=\u001b[39mrec2\u001b[38;5;241m.\u001b[39mget_num_channels())\n\u001b[0;32m      8\u001b[0m this_rec2\u001b[38;5;241m.\u001b[39mannotate(is_filtered\u001b[38;5;241m=\u001b[39mrec2\u001b[38;5;241m.\u001b[39mis_filtered())\n\u001b[0;32m      9\u001b[0m \u001b[38;5;28;01mfor\u001b[39;00m key \u001b[38;5;129;01min\u001b[39;00m rec2\u001b[38;5;241m.\u001b[39mget_property_keys():\n",
      "\u001b[1;31mNameError\u001b[0m: name 'rec2' is not defined"
     ]
    }
   ],
   "source": [
    "# Run the following cell **ONLY** if the notebook was restarted after manual curation\n",
    "\n",
    "# # This has to match the the details from temp_wh.dat, which is the binary file written\n",
    "# # by Kilosort. This has to be appended with the appropriate channel ids and channel_locations\n",
    "# # using rec2 that has the bad channels removed\n",
    "# this_rec2  = si.read_binary('E:\\\\Temp-M465\\\\ks2_output2\\\\sorter_output\\\\temp_wh.dat', sampling_frequency=rec2.get_sampling_frequency(), \\\n",
    "#                            dtype='int16', num_channels=rec2.get_num_channels())\n",
    "# this_rec2.annotate(is_filtered=rec2.is_filtered())\n",
    "# for key in rec2.get_property_keys():\n",
    "#     this_rec2.set_property(key, rec2.get_property(key))\n",
    "# this_rec2.set_channel_gains(rec2.get_channel_gains())\n",
    "# this_rec2.set_probe(rec2.get_probe())\n",
    "# this_rec2.annotate(probes_info=rec2.get_annotation('probes_info'))\n",
    "# this_rec2.annotate(probe_0_planar_contour=rec2.get_annotation('probe_0_planar_contour'))\n",
    "# sorting2.register_recording(this_rec2)\n"
   ]
  },
  {
   "cell_type": "code",
   "execution_count": 22,
   "id": "ba95affc-e7eb-4f23-8c0f-3446219fc10c",
   "metadata": {},
   "outputs": [
    {
     "data": {
      "text/plain": [
       "KiloSortSortingExtractor: 328 units - 1 segments - 30.0kHz"
      ]
     },
     "execution_count": 22,
     "metadata": {},
     "output_type": "execute_result"
    }
   ],
   "source": [
    "# The path should point to the folder that contains phy output\n",
    "this_rec2 = rec2 # rec2 is the filtered recording, with the bad channels removed\n",
    "sorting2 = si.KiloSortSortingExtractor(folder_path='E:\\\\Temp-M465\\\\ks2_output2\\\\sorter_output')\n",
    "sorting2"
   ]
  },
  {
   "cell_type": "markdown",
   "id": "e2dd9c1d-d8e8-4271-bb57-eacba3092c7e",
   "metadata": {},
   "source": [
    "## Collating information about clean cells"
   ]
  },
  {
   "cell_type": "code",
   "execution_count": 17,
   "id": "5ca14ab2-8017-4ad2-ba42-1bd2c804bdef",
   "metadata": {},
   "outputs": [],
   "source": [
    "# KSlabel is Kilosort label, quality is user annotated\n",
    "keep_idx2 = np.where(sorting2.get_property('quality') == 'good')[0] # np.wher returns a tuple, so the extra '[0]'\n",
    "keep_units2 = sorting2.unit_ids[keep_idx2]"
   ]
  },
  {
   "cell_type": "code",
   "execution_count": 20,
   "id": "bbc63a9e-ac72-4cec-8e8c-f6f5a6b0143a",
   "metadata": {},
   "outputs": [],
   "source": [
    "clean_units2 = sorting2.select_units(keep_units2)\n",
    "clean_spike_train2 = [clean_units2.get_unit_spike_train(x)/clean_units2.get_sampling_frequency() \\\n",
    "    for x in clean_units2.unit_ids]\n",
    "clean_channel_ids2 = [str(x) for x in keep_units2]\n",
    "# If 2 probes are being used, prefix 'imec0_' and 'imec1_' to the respective channel_ids\n",
    "clean_channel_ids2 = ['imec1_'+x for x in clean_channel_ids2]\n",
    "clean_depths2 = clean_units2.get_property('depth')"
   ]
  },
  {
   "cell_type": "markdown",
   "id": "18ecfbca-3a00-4c2a-9bed-89df4b184db9",
   "metadata": {},
   "source": [
    "### The code below extracts waveforms"
   ]
  },
  {
   "cell_type": "code",
   "execution_count": 23,
   "id": "69fae877-9818-4893-92bd-5b14e1eca70e",
   "metadata": {},
   "outputs": [
    {
     "data": {
      "application/vnd.jupyter.widget-view+json": {
       "model_id": "269d2898a3764b14b6ab5497f5083b0f",
       "version_major": 2,
       "version_minor": 0
      },
      "text/plain": [
       "extract waveforms shared_memory multi buffer:   0%|          | 0/1564 [00:00<?, ?it/s]"
      ]
     },
     "metadata": {},
     "output_type": "display_data"
    },
    {
     "data": {
      "application/vnd.jupyter.widget-view+json": {
       "model_id": "568e7aed59c142c59c410e0763f7ebed",
       "version_major": 2,
       "version_minor": 0
      },
      "text/plain": [
       "extract waveforms memmap multi buffer:   0%|          | 0/1564 [00:00<?, ?it/s]"
      ]
     },
     "metadata": {},
     "output_type": "display_data"
    }
   ],
   "source": [
    "job_kwargs = dict(n_jobs=40, chunk_duration='1s', progress_bar=True)\n",
    "# the folder mentioned below must not exist\n",
    "curated_wv2 = si.extract_waveforms(this_rec2, clean_units2, \"E:\\\\Temp-M465\\\\si_waveforms2\", **job_kwargs)\n",
    "# The waveforms are in the shape max(500, nspikes), a variable number of  channels, timepoints\n",
    "clean_waveforms2 = [np.mean(curated_wv2.get_waveforms(x), axis=0).T for x in clean_units2.unit_ids]"
   ]
  },
  {
   "cell_type": "markdown",
   "id": "21e3132c-be01-47fe-9de6-34b56d6f2882",
   "metadata": {},
   "source": [
    "### Saving as mat-files"
   ]
  },
  {
   "cell_type": "code",
   "execution_count": 24,
   "id": "983eb307-55c2-40df-9443-3c7e68c256cf",
   "metadata": {},
   "outputs": [],
   "source": [
    "spikes_mat_fname2 = 'E:\\\\Temp-M465\\\\clean_units_imec1.mat'\n",
    "scio.savemat(spikes_mat_fname2, {'depths': clean_depths2, 'channel_ids': clean_channel_ids2, \\\n",
    "    'spike_train': clean_spike_train2, 'clean_waveforms': clean_waveforms2})\n",
    "\n",
    "# TODO: Have a matlab script to load this into the ts format, \n",
    "# and the actual depths need to be calculated by subtracting from the recording depth"
   ]
  },
  {
   "cell_type": "markdown",
   "id": "a21865c9",
   "metadata": {},
   "source": [
    "# MATLAB code to load the spikes into mvdmlab `LoadSpikes()` format\n",
    "```\n",
    "load('clean units.mat')\n",
    "S = ts;\n",
    "S.t  = cellfun(@(x) x', spike_train, 'UniformOutput', false); % This is important to convert the spiketrain into column format\n",
    "S.label = cellstr(string(channel_ids).strip())'; % Ugly but works!\n",
    "S.usr = [];\n",
    "S.usr.recording_depths = depths; % Not sure if this is the best place to save this\n",
    "S.usr.mean_waveforms = clean_waveforms % Not sure if this is the best place to save this\n",
    "```\n",
    "\n"
   ]
  },
  {
   "cell_type": "markdown",
   "id": "93e8a3a5",
   "metadata": {},
   "source": [
    "# LFP Extraction"
   ]
  },
  {
   "cell_type": "markdown",
   "id": "233aceb6",
   "metadata": {},
   "source": [
    "### Extract downsampled and bandpass filtered LFPs based on a depth based measure"
   ]
  },
  {
   "cell_type": "code",
   "execution_count": 51,
   "id": "9cda6a2f",
   "metadata": {},
   "outputs": [],
   "source": [
    "lfp_rec = raw_rec.remove_channels(bad_channel_ids) # Remove the bad channels for this too\n",
    "req_fs = 2500 # Hz\n",
    "lfp_rec= si.resample(lfp_rec, req_fs)\n",
    "lfp_rec = si.bandpass_filter(lfp_rec, freq_min=1, freq_max=400)"
   ]
  },
  {
   "cell_type": "code",
   "execution_count": null,
   "id": "5a69b600-e4ae-4154-9220-b88b7f47f789",
   "metadata": {},
   "outputs": [],
   "source": [
    "%matplotlib widget"
   ]
  },
  {
   "cell_type": "markdown",
   "id": "160fe286-1358-4108-b708-f6a403bf9c1b",
   "metadata": {},
   "source": [
    "### Helps to visualize the channel arrangement before writing code to select them"
   ]
  },
  {
   "cell_type": "code",
   "execution_count": null,
   "id": "cfdd066e-edb0-4247-8011-a5eb6c1223c1",
   "metadata": {},
   "outputs": [],
   "source": [
    "# path to meta file\n",
    "meta_filename = 'D:\\\\NPX_Data\\\\M483\\\\M483-2024-01-22_g0\\\\M483-2024-01-22_g0_imec0\\\\M483-2024-01-22_g0_t0.imec0.ap.meta'\n",
    "probe = pif.read_spikeglx(meta_filename)\n",
    "fig,ax = plt.subplots()\n",
    "plot_probe(probe, ax=ax, show_channel_on_click=True) # must run \"%matplotlib widget\"ax.set_aspect(0.75) for this to work\n",
    "ax.set_ylim([2250, 3100])\n",
    "ax.set_title('NPX 2') # Change to whatever probe you are using"
   ]
  },
  {
   "cell_type": "code",
   "execution_count": 54,
   "id": "c47a579f",
   "metadata": {},
   "outputs": [
    {
     "name": "stdout",
     "output_type": "stream",
     "text": [
      "[0, 10, 20, 30, 40, 50, 60, 70, 80, 90, 100, 110, 120, 130, 140, 150, 160, 170, 179, 189, 198, 208, 218, 227, 237, 247, 257, 267, 277, 287, 297, 307, 317, 327, 336, 346, 356, 366, 376]\n"
     ]
    }
   ],
   "source": [
    "# We don't need channels from all the LFPs, just extract a few separated by a reasonable distance\n",
    "req_spacing = 100 # microns\n",
    "all_depths = [x[1] for x in lfp_rec.get_channel_locations()]\n",
    "queried_depths = np.arange(min(all_depths), max(all_depths), req_spacing).tolist()\n",
    "keep_idx = []\n",
    "for b in queried_depths:\n",
    "    min_diff = float('inf')\n",
    "    closest_index = None\n",
    "\n",
    "    for i, a in enumerate(all_depths):\n",
    "        diff = abs(a - b)\n",
    "        if diff < min_diff:\n",
    "            min_diff = diff\n",
    "            closest_index = i\n",
    "        elif diff == min_diff:\n",
    "            closest_index = min(closest_index, i)\n",
    "\n",
    "    keep_idx.append(closest_index)\n",
    "print(keep_idx)"
   ]
  },
  {
   "cell_type": "code",
   "execution_count": 53,
   "id": "506d1e10-ba7a-4ef6-a1f1-92e7451f518f",
   "metadata": {},
   "outputs": [
    {
     "data": {
      "text/plain": [
       "array([['imec0.ap#AP15'],\n",
       "       ['imec0.ap#AP35'],\n",
       "       ['imec0.ap#AP220']], dtype='<U64')"
      ]
     },
     "execution_count": 53,
     "metadata": {},
     "output_type": "execute_result"
    }
   ],
   "source": [
    "# Manual selection code\n",
    "selected_channels = ['AP15', 'AP35', 'AP220'] # Make a list of channels based on the above widget or using spikeGLX Viewer\n",
    "keep_idx = [np.where(np.char.endswith(lfp_rec.channel_ids, x))[0] for x in selected_channels]\n",
    "lfp_rec.channel_ids[keep_idx]"
   ]
  },
  {
   "cell_type": "markdown",
   "id": "71386416",
   "metadata": {},
   "source": [
    "### This below cell may take some time to run"
   ]
  },
  {
   "cell_type": "code",
   "execution_count": 55,
   "id": "8ef5d36e",
   "metadata": {},
   "outputs": [],
   "source": [
    "final_channels = lfp_rec.channel_ids[np.asarray(keep_idx)]\n",
    "final_lfp = lfp_rec.get_traces(channel_ids=final_channels, \\\n",
    "    return_scaled=True, cast_unsigned=True)\n",
    "final_tvec = lfp_rec.get_times()\n",
    "final_fs = lfp_rec.get_sampling_frequency()"
   ]
  },
  {
   "cell_type": "code",
   "execution_count": null,
   "id": "adfc1ded-e108-41f3-9b8c-e0de12f060c7",
   "metadata": {},
   "outputs": [],
   "source": [
    "plt.plot(final_tvec, final_lfp[:][0])"
   ]
  },
  {
   "cell_type": "code",
   "execution_count": 59,
   "id": "3d1a083e",
   "metadata": {},
   "outputs": [],
   "source": [
    "# Save the final_lfp and final_channels to a mat file\n",
    "lfp_mat_fname = 'D:\\\\NPX_Data\\\\OdorPixels\\\\Pilot1\\\\M465\\\\preprocessed\\\\M465-2024-02-02\\\\imec0_clean_lfp.mat'\n",
    "final_depths = [all_depths[x] for x in keep_idx]\n",
    "scio.savemat(lfp_mat_fname, {'depths': final_depths, 'channel_ids': final_channels, \\\n",
    "    'lfp_traces': final_lfp, 'lfp_tvec': final_tvec, 'lfp_fs': final_fs})\n",
    "\n",
    "# TODO: Have a matlab script to load this into the ts format, \n",
    "# and the actual depths need to be calculated by subtracting from the recording depth"
   ]
  },
  {
   "cell_type": "markdown",
   "id": "ae72a880-3643-4256-939f-e210a614f511",
   "metadata": {},
   "source": [
    "### TODO:\n",
    "- Interpolate the LFPs to match probe-1's timebase"
   ]
  },
  {
   "cell_type": "markdown",
   "id": "792fe662-0422-4154-89b9-e9a1d6377dd5",
   "metadata": {},
   "source": [
    "## Run this if there is a second probe"
   ]
  },
  {
   "cell_type": "markdown",
   "id": "da7748f5-e13b-478c-96f4-06e74162c957",
   "metadata": {},
   "source": [
    "### Extract downsampled and bandpass filtered LFPs based on a depth based measure"
   ]
  },
  {
   "cell_type": "code",
   "execution_count": 7,
   "id": "051919e2-e39d-4dd1-9773-cf8dd112aa05",
   "metadata": {},
   "outputs": [],
   "source": [
    "lfp_rec2 = raw_rec2.remove_channels(bad_channel_ids2) # Remove the bad channels for this too\n",
    "req_fs2 = 2500 # Hz\n",
    "lfp_rec2= si.resample(lfp_rec2, req_fs2)\n",
    "lfp_rec2 = si.bandpass_filter(lfp_rec2, freq_min=1, freq_max=400)"
   ]
  },
  {
   "cell_type": "code",
   "execution_count": 15,
   "id": "4d30f584-f430-46ea-88f9-a691265d84ef",
   "metadata": {},
   "outputs": [],
   "source": [
    "# Create a timestamp file based on the resampled and filtered lfp and use TPrime to align them to probe 1's timebase\n",
    "ts_outpath = 'D:\\\\NPX_Data\\\\OdorPixels\\\\Pilot1\\\\M465\\\\preprocessed\\\\M465-2024-02-02\\\\catgt_M465-2024-02-02_g0\\\\' # Path to where Kilosort's outputs live\n",
    "np.save(ts_outpath + 'imec1_lfp_times.npy', lfp_rec2.get_times())"
   ]
  },
  {
   "cell_type": "markdown",
   "id": "8f622e7e-a001-4088-88de-ed7e74b25960",
   "metadata": {},
   "source": [
    "C:\\TPrime-win/TPrime.exe -syncperiod='1.0' -tostream='D:\\NPX_Data\\OdorPixels\\Pilot1\\M465\\preprocessed\\M465-2024-02-02\\catgt_M465-2024-02-02_g0\\M465-2024-02-02_g0_tcat.imec0.ap.xd_384_6_500.txt' -fromstream='5,D:\\NPX_Data\\OdorPixels\\Pilot1\\M465\\preprocessed\\M465-2024-02-02\\catgt_M465-2024-02-02_g0\\M465-2024-02-02_g0_tcat.imec1.ap.xd_384_6_500.txt' -events='5,D:\\NPX_Data\\OdorPixels\\Pilot1\\M465\\preprocessed\\M465-2024-02-02\\catgt_M465-2024-02-02_g0\\imec1_lfp_times.npy,D:\\NPX_Data\\OdorPixels\\Pilot1\\M465\\preprocessed\\M465-2024-02-02\\catgt_M465-2024-02-02_g0\\imec1_adj_lfp_times.npy'"
   ]
  },
  {
   "cell_type": "code",
   "execution_count": 16,
   "id": "c4519bea-a23d-4456-b6f9-619cb078e4b9",
   "metadata": {},
   "outputs": [
    {
     "data": {
      "text/plain": [
       "(3907890, 3907890)"
      ]
     },
     "execution_count": 16,
     "metadata": {},
     "output_type": "execute_result"
    }
   ],
   "source": [
    "adjusted_ts = np.load(ts_outpath + 'imec1_adj_lfp_times.npy')\n",
    "old_ts = lfp_rec2.get_times()\n",
    "len(adjusted_ts), len(old_ts)"
   ]
  },
  {
   "cell_type": "code",
   "execution_count": 8,
   "id": "3de0049a-85a6-43ee-92f4-6f5d4360ecc5",
   "metadata": {},
   "outputs": [
    {
     "name": "stdout",
     "output_type": "stream",
     "text": [
      "[0, 10, 20, 30, 40, 50, 60, 70, 80, 90, 100, 110, 120, 130, 140, 150, 160, 170, 180, 190, 199, 209, 219, 229, 239, 249, 259, 269, 279, 289, 299, 309, 319, 329, 339, 349, 359, 369, 379]\n"
     ]
    }
   ],
   "source": [
    "# We don't need channels from all the LFPs, just extract a few separated by a reasonable distance\n",
    "req_spacing = 100 # microns\n",
    "all_depths = [x[1] for x in lfp_rec2.get_channel_locations()]\n",
    "queried_depths = np.arange(min(all_depths), max(all_depths), req_spacing).tolist()\n",
    "keep_idx = []\n",
    "for b in queried_depths:\n",
    "    min_diff = float('inf')\n",
    "    closest_index = None\n",
    "\n",
    "    for i, a in enumerate(all_depths):\n",
    "        diff = abs(a - b)\n",
    "        if diff < min_diff:\n",
    "            min_diff = diff\n",
    "            closest_index = i\n",
    "        elif diff == min_diff:\n",
    "            closest_index = min(closest_index, i)\n",
    "\n",
    "    keep_idx.append(closest_index)\n",
    "print(keep_idx)"
   ]
  },
  {
   "cell_type": "code",
   "execution_count": null,
   "id": "8da65740-a321-4aba-b41b-7f4c6bef3706",
   "metadata": {},
   "outputs": [],
   "source": [
    "# Manual selection code\n",
    "selected_channels2 = ['AP15', 'AP35', 'AP220'] # Make a list of channels based on the above widget or using spikeGLX Viewer\n",
    "keep_idx = [np.where(np.char.endswith(lfp_rec.channel_ids, x))[0] for x in selected_channels]\n",
    "lfp_rec2.channel_ids[keep_idx]"
   ]
  },
  {
   "cell_type": "code",
   "execution_count": 30,
   "id": "a3c26f0d-112b-4c57-9367-6c9dcf26eab6",
   "metadata": {},
   "outputs": [
    {
     "ename": "NameError",
     "evalue": "name 'lfp_rec' is not defined",
     "output_type": "error",
     "traceback": [
      "\u001b[1;31m---------------------------------------------------------------------------\u001b[0m",
      "\u001b[1;31mNameError\u001b[0m                                 Traceback (most recent call last)",
      "Cell \u001b[1;32mIn[30], line 6\u001b[0m\n\u001b[0;32m      3\u001b[0m final_lfp2 \u001b[38;5;241m=\u001b[39m lfp_rec2\u001b[38;5;241m.\u001b[39mget_traces(channel_ids\u001b[38;5;241m=\u001b[39mfinal_channels2, \\\n\u001b[0;32m      4\u001b[0m     return_scaled\u001b[38;5;241m=\u001b[39m\u001b[38;5;28;01mTrue\u001b[39;00m, cast_unsigned\u001b[38;5;241m=\u001b[39m\u001b[38;5;28;01mTrue\u001b[39;00m)\n\u001b[0;32m      5\u001b[0m final_tvec2 \u001b[38;5;241m=\u001b[39m adjusted_ts \u001b[38;5;66;03m# The interpolation has to happen in matlab, Python throws errors\u001b[39;00m\n\u001b[1;32m----> 6\u001b[0m final_fs2 \u001b[38;5;241m=\u001b[39m \u001b[43mlfp_rec\u001b[49m\u001b[38;5;241m.\u001b[39mget_sampling_frequency()\n",
      "\u001b[1;31mNameError\u001b[0m: name 'lfp_rec' is not defined"
     ]
    }
   ],
   "source": [
    "# This might take a while to run\n",
    "final_channels2 = lfp_rec2.channel_ids[np.asarray(keep_idx)]\n",
    "final_lfp2 = lfp_rec2.get_traces(channel_ids=final_channels2, \\\n",
    "    return_scaled=True, cast_unsigned=True)\n",
    "final_tvec2 = adjusted_ts # The interpolation has to happen in matlab, Python throws errors\n",
    "final_fs2 = lfp_rec2.get_sampling_frequency()"
   ]
  },
  {
   "cell_type": "code",
   "execution_count": 35,
   "id": "e8207fd5-9263-4950-aad4-8bf6c71f585d",
   "metadata": {},
   "outputs": [],
   "source": [
    "# Save the final_lfp and final_channels to a mat file\n",
    "lfp_mat_fname = 'D:\\\\NPX_Data\\\\OdorPixels\\\\Pilot1\\\\M465\\\\preprocessed\\\\M465-2024-02-02\\\\imec1_clean_lfp.mat'\n",
    "final_depths = [all_depths[x] for x in keep_idx]\n",
    "scio.savemat(lfp_mat_fname, {'depths': final_depths, 'channel_ids': final_channels2, \\\n",
    "    'lfp_traces': final_lfp2, 'lfp_tvec': final_tvec2, 'lfp_fs': final_fs2})\n"
   ]
  },
  {
   "cell_type": "markdown",
   "id": "ce90155a",
   "metadata": {},
   "source": [
    "# MATLAB code to load LFPs into mvdmlab `LoadCSC()` format\n",
    "```\n",
    "csc = tsd;\n",
    "load('clean_lfp.mat')\n",
    "csc.tvec = lfp_tvec';\n",
    "cfg = [];\n",
    "csc.data = lfp_traces';\n",
    "csc.label = cellstr(string(channel_ids).strip().extractAfter('ap#')'); % Ugly but works!\n",
    "csc.cfg.depths = depths; % Not sure if this is the best place to save it\n",
    "csc.cfg.Fs = lfp_fs; % Not sure if this is the best place to save it\n",
    "```"
   ]
  },
  {
   "cell_type": "markdown",
   "id": "37154d96-6ef4-4095-82af-bfd3a30b5b64",
   "metadata": {},
   "source": [
    "# MATLAB code to sync LFPS from 2 probes\n",
    "```\n",
    "imec0 = load('imec0_clean_lfp.mat');\n",
    "imec1 = load('imec1_clean_lfp.mat');\n",
    "\n",
    "imec1.adj_traces = zeros(size(imec1.lfp_traces));\n",
    "for iCh = 1:size(imec1.lfp_traces,2)\n",
    "    imec1.adj_traces(:,iCh) = interp1(imec1.lfp_tvec', imec1.lfp_traces(:,iCh), imec0.lfp_tvec');\n",
    "end\n",
    "% imec1.adj_traces and imec0.lfp_traces are now on the unified timebase imec0.lfp_tvec\n",
    "```"
   ]
  },
  {
   "cell_type": "markdown",
   "id": "8bd96297-70f4-4099-b55d-1f68e080f0e1",
   "metadata": {},
   "source": [
    "# CATGT way to extract events"
   ]
  },
  {
   "cell_type": "markdown",
   "id": "8c0636b5-8e83-44ed-a60b-be0e2861326e",
   "metadata": {},
   "source": [
    "## SpikeGLX reference:\n",
    "```\n",
    "-xa=0,0,2,3.0,4.5,25     ;extract pulse signal from analog chan (js,ip,word,thresh1(V),thresh2(V),millisec); For our purposes word = 0 for XA0, 1 for XA1 = 1 and so on\n",
    "-xd=0,0,384,6,500        ;extract pulse signal from digital chan (js,ip,word,bit,millisec; For our purposes word = 0 always; bit = 0 for XD0, 1 for XD1 = 1 and so on)\n",
    "-xia=0,0,2,3.0,4.5,2     ;inverted version of xa\n",
    "-xid=0,0,384,6,50        ;inverted version xd\n",
    "```\n",
    "\n",
    "***IMPORTANT***: Milliseconds duration can be zero to specify detection of all leading edges regardless of pulse duration"
   ]
  },
  {
   "cell_type": "code",
   "execution_count": 18,
   "id": "650e2471-c779-44c1-a922-0baf9f0ddc93",
   "metadata": {},
   "outputs": [],
   "source": [
    "# Teensy generated pulses are all in the range 0-3.3 V, but the thresolds will change depending on what is being generated\n",
    "# Create dictionary called analog channels, with channel name as 'key' and (thresh1, thresh2) as 'value'\n",
    "analog_channels = {'XA0': [1, 3], 'XA1': [1, 3], 'XA2': [1, 3], 'XA3': [1, 3], 'XA4': [1, 3], 'XA5': [1, 3]}\n",
    "# Create list of digital channels, for example, digital_channels = ['XD0', 'XD1']\n",
    "digital_channels = [] # ['XD0']"
   ]
  },
  {
   "cell_type": "code",
   "execution_count": 20,
   "id": "ed14d63d-a733-40d2-8cf2-b3531d2a1cde",
   "metadata": {},
   "outputs": [],
   "source": [
    "# Other parameters\n",
    "catgt_path = 'C:\\\\CatGT-win' # The location where CatGT.exe exists\n",
    "source_path = 'D:\\\\NPX_Data\\\\OdorPixels\\\\Pilot1\\\\M481\\\\sourcedata\\\\sub-M481\\\\' # The parent directory of the session folder\n",
    "run_name = 'M481-2024-01-15' # The thing that is suffixed by the top level 'g0' folder\n",
    "dest_path = 'D:\\\\NPX_Data\\\\OdorPixels\\\\Pilot1\\\\M481\\\\preprocessed\\\\M481-2024-01-15\\\\' # Where catgt's output files will reside"
   ]
  },
  {
   "cell_type": "code",
   "execution_count": 21,
   "id": "c70cc887-8358-4ed0-bc02-04286ea4885e",
   "metadata": {},
   "outputs": [
    {
     "name": "stdout",
     "output_type": "stream",
     "text": [
      "C:\\CatGT-win/CatGT.exe -dir=D:\\NPX_Data\\OdorPixels\\Pilot1\\M481\\sourcedata\\sub-M481\\ -run=M481-2024-01-15 -g=0 -t=0 -prb_fld -t_miss_ok -ni\n"
     ]
    }
   ],
   "source": [
    "command_prefix = '{}/CatGT.exe -dir={} -run={} -g=0 -t=0 -prb_fld -t_miss_ok -ni'.format(catgt_path, source_path, run_name)\n",
    "print(command_prefix)"
   ]
  },
  {
   "cell_type": "code",
   "execution_count": 22,
   "id": "9bdac9c6-6965-4a3e-a5f9-b3992865cf64",
   "metadata": {},
   "outputs": [
    {
     "name": "stdout",
     "output_type": "stream",
     "text": [
      "-xa='0,0,0,1,3,0' -xia='0,0,0,1,3,0' -xa='0,0,1,1,3,0' -xia='0,0,1,1,3,0' -xa='0,0,2,1,3,0' -xia='0,0,2,1,3,0' -xa='0,0,3,1,3,0' -xia='0,0,3,1,3,0' -xa='0,0,4,1,3,0' -xia='0,0,4,1,3,0' -xa='0,0,5,1,3,0' -xia='0,0,5,1,3,0' \n"
     ]
    }
   ],
   "source": [
    "# generate arguments to find rising and falling edges in analog channels\n",
    "analog_params = '';\n",
    "for key in analog_channels:\n",
    "    analog_params += '-xa=\\'0,0,{},{},{},0\\' -xia=\\'0,0,{},{},{},0\\' '.format(key[2:],analog_channels[key][0], analog_channels[key][1], \\\n",
    "    key[2:],analog_channels[key][0], analog_channels[key][1])\n",
    "print(analog_params)"
   ]
  },
  {
   "cell_type": "code",
   "execution_count": 23,
   "id": "38b37fec-e85d-4a38-b2c3-2a70afd49cab",
   "metadata": {},
   "outputs": [
    {
     "name": "stdout",
     "output_type": "stream",
     "text": [
      "\n"
     ]
    }
   ],
   "source": [
    "# generate arguments to find rising and falling edges in digital channels\n",
    "digital_params = '';\n",
    "for item in digital_channels:\n",
    "    digital_params += '-xd=\\'0,0,{},{},0\\' -xid=\\'0,0,{},{},0\\' '.format(len(analog_channels), item[2:], len(analog_channels), item[2:])\n",
    "print(digital_params)"
   ]
  },
  {
   "cell_type": "code",
   "execution_count": 24,
   "id": "fcfe7866-dab0-4872-9968-8da9eebfe3ef",
   "metadata": {},
   "outputs": [
    {
     "name": "stdout",
     "output_type": "stream",
     "text": [
      "-dest=D:\\NPX_Data\\OdorPixels\\Pilot1\\M481\\preprocessed\\M481-2024-01-15\\\n"
     ]
    }
   ],
   "source": [
    "command_suffix = '-dest={}'.format(dest_path)\n",
    "print(command_suffix)"
   ]
  },
  {
   "cell_type": "code",
   "execution_count": 25,
   "id": "edf36193-93a0-4cdc-8702-aa697c4a07f6",
   "metadata": {},
   "outputs": [
    {
     "name": "stdout",
     "output_type": "stream",
     "text": [
      "C:\\CatGT-win/CatGT.exe -dir=D:\\NPX_Data\\OdorPixels\\Pilot1\\M481\\sourcedata\\sub-M481\\ -run=M481-2024-01-15 -g=0 -t=0 -prb_fld -t_miss_ok -ni -xa='0,0,0,1,3,0' -xia='0,0,0,1,3,0' -xa='0,0,1,1,3,0' -xia='0,0,1,1,3,0' -xa='0,0,2,1,3,0' -xia='0,0,2,1,3,0' -xa='0,0,3,1,3,0' -xia='0,0,3,1,3,0' -xa='0,0,4,1,3,0' -xia='0,0,4,1,3,0' -xa='0,0,5,1,3,0' -xia='0,0,5,1,3,0'   -dest=D:\\NPX_Data\\OdorPixels\\Pilot1\\M481\\preprocessed\\M481-2024-01-15\\\n"
     ]
    }
   ],
   "source": [
    "# Final command to be copy-pasted\n",
    "print('{} {} {} {}'.format(command_prefix, analog_params, digital_params, command_suffix))"
   ]
  },
  {
   "cell_type": "markdown",
   "id": "271db7c2-c704-4f42-b86c-85bd8a1a83ec",
   "metadata": {},
   "source": [
    "**If it worked, then you will see a catgt-XXYY folder created at the destination folder, if it didn't already exist when you ran the catgt to tshift on the AP files.**\n",
    "\n",
    "**Otherwise check CatGT.log in the window that you ran the command from.**"
   ]
  },
  {
   "cell_type": "markdown",
   "id": "9ed927d9-3cfd-424d-be57-b140769eee4e",
   "metadata": {},
   "source": [
    "### TPrime command generator to align events"
   ]
  },
  {
   "cell_type": "code",
   "execution_count": 41,
   "id": "33ef79f5-bc8b-4257-b02d-93691b59b4da",
   "metadata": {},
   "outputs": [],
   "source": [
    "# Parameters\n",
    "to_probe = 'imec0' #\n",
    "tprime_path = 'C:\\\\TPrime-win' # Location where TPrime.exe lives\n",
    "tsource_path = 'D:\\\\NPX_Data\\\\OdorPixels\\\\Pilot1\\\\M481\\\\preprocessed\\\\M481-2024-01-15\\\\catgt_M481-2024-01-15_g0\\\\' # Location where all sync pulses and edge extraction files live\n",
    "tdest_path = 'D:\\\\NPX_Data\\\\OdorPixels\\\\Pilot1\\\\M481\\\\preprocessed\\\\M481-2024-01-15\\\\'# Location where you want the Tprime output files to go"
   ]
  },
  {
   "cell_type": "code",
   "execution_count": 42,
   "id": "3608848f-1a1f-48b8-871e-a7175443e877",
   "metadata": {},
   "outputs": [],
   "source": [
    "# Analog and digital channels to be synced\n",
    "analog_channels = ['XA0', 'XA1', 'XA2', 'XA3', 'XA4', 'XA5']\n",
    "digital_channels = []"
   ]
  },
  {
   "cell_type": "code",
   "execution_count": 43,
   "id": "4e1b6ba5-77e1-4584-ac15-b52c34bd286e",
   "metadata": {},
   "outputs": [
    {
     "name": "stdout",
     "output_type": "stream",
     "text": [
      "['M481-2024-01-15_g0_tcat.nidq.xa_0_0.txt', 'M481-2024-01-15_g0_tcat.nidq.xia_0_0.txt', 'M481-2024-01-15_g0_tcat.nidq.xa_1_0.txt', 'M481-2024-01-15_g0_tcat.nidq.xia_1_0.txt', 'M481-2024-01-15_g0_tcat.nidq.xa_2_0.txt', 'M481-2024-01-15_g0_tcat.nidq.xia_2_0.txt', 'M481-2024-01-15_g0_tcat.nidq.xa_3_0.txt', 'M481-2024-01-15_g0_tcat.nidq.xia_3_0.txt', 'M481-2024-01-15_g0_tcat.nidq.xa_4_0.txt', 'M481-2024-01-15_g0_tcat.nidq.xia_4_0.txt', 'M481-2024-01-15_g0_tcat.nidq.xa_5_0.txt', 'M481-2024-01-15_g0_tcat.nidq.xia_5_0.txt']\n",
      "['XA0_ON.txt', 'XA0_OFF.txt', 'XA1_ON.txt', 'XA1_OFF.txt', 'XA2_ON.txt', 'XA2_OFF.txt', 'XA3_ON.txt', 'XA3_OFF.txt', 'XA4_ON.txt', 'XA4_OFF.txt', 'XA5_ON.txt', 'XA5_OFF.txt']\n",
      "[]\n",
      "[]\n"
     ]
    }
   ],
   "source": [
    "# Parameter sanity checker\n",
    "file_list = []\n",
    "for root, dirs, files in os.walk(tsource_path):\n",
    "    for file in files:\n",
    "       file_list.append(file)\n",
    "to_file = [x for x in file_list if to_probe in x and '.txt' in x]\n",
    "assert len(to_file) == 1, 'Something wrong with to-stream, expected 1 file, found {}'.format(to_file)\n",
    "from_file = [x for x in file_list if 'nidq.xd' in x and '500.txt' in x]\n",
    "assert len(from_file) == 1, 'Something wrong with from-stream, expected 1 file, found {}'.format(from_file)\n",
    "analog_in_files = []\n",
    "analog_out_files = []\n",
    "for ch in analog_channels:\n",
    "    this_on_file = [x for x in file_list if 'nidq.xa_'+ch[2:] in x and '0.txt' in x]\n",
    "    assert len(this_on_file) == 1, 'Something wrong with ON events from channel {}, expected 1, found {}'.format(ch, this_on_file)\n",
    "    analog_in_files.extend(this_on_file)\n",
    "    analog_out_files.append(ch+'_ON.txt')\n",
    "    this_off_file = [x for x in file_list if 'nidq.xia_'+ch[2:] in x and '0.txt' in x]\n",
    "    assert len(this_off_file) == 1, 'Something wrong with OFF events from channel {}, expected 1, found {}'.format(ch, this_off_file)\n",
    "    analog_in_files.extend(this_off_file)\n",
    "    analog_out_files.append(ch+'_OFF.txt')\n",
    "print(analog_in_files)\n",
    "print(analog_out_files)\n",
    "digital_in_files = []\n",
    "digital_out_files = []\n",
    "for ch in digital_channels:\n",
    "    this_on_file = [x for x in file_list if 'nidq.xd' in x and ch[2:]+'_0.txt' in x]\n",
    "    assert len(this_on_file) == 1, 'Something wrong with ON events from channel {}, expected 1, found {}'.format(ch, this_on_file)\n",
    "    digital_in_files.extend(this_on_file)\n",
    "    digital_out_files.append(ch+'_ON.txt')\n",
    "    this_off_file = [x for x in file_list if 'nidq.xid' in x and ch[2:]+'_0.txt' in x]\n",
    "    assert len(this_off_file) == 1, 'Something wrong with OFF events from channel {}, expected 1, found {}'.format(ch, this_off_file)\n",
    "    digital_in_files.extend(this_off_file)\n",
    "    digital_out_files.append(ch+'_OFF.txt')  \n",
    "print(digital_in_files)\n",
    "print(digital_out_files)"
   ]
  },
  {
   "cell_type": "code",
   "execution_count": 45,
   "id": "2be7f6dd-31ff-45b1-8f82-3f1ad8ba68d5",
   "metadata": {
    "scrolled": true
   },
   "outputs": [
    {
     "name": "stdout",
     "output_type": "stream",
     "text": [
      "C:\\TPrime-win/TPrime.exe -syncperiod='1.0' -tostream='D:\\NPX_Data\\OdorPixels\\Pilot1\\M481\\preprocessed\\M481-2024-01-15\\catgt_M481-2024-01-15_g0\\M481-2024-01-15_g0_tcat.imec0.ap.xd_384_6_500.txt' -fromstream='5,D:\\NPX_Data\\OdorPixels\\Pilot1\\M481\\preprocessed\\M481-2024-01-15\\catgt_M481-2024-01-15_g0\\M481-2024-01-15_g0_tcat.nidq.xd_8_0_500.txt'\n"
     ]
    }
   ],
   "source": [
    "#The stream number is arbitrary (5 in this case)\n",
    "tcommand_prefix = '{}/TPrime.exe -syncperiod=\\'1.0\\' -tostream=\\'{}{}\\' -fromstream=\\'5,{}{}\\''.format(\\\n",
    "    tprime_path, tsource_path, to_file[0], tsource_path, from_file[0])\n",
    "print(tcommand_prefix)"
   ]
  },
  {
   "cell_type": "code",
   "execution_count": 46,
   "id": "9e48a42b-77d5-4111-9d3e-9e66c5658008",
   "metadata": {},
   "outputs": [
    {
     "name": "stdout",
     "output_type": "stream",
     "text": [
      "-events='5,D:\\NPX_Data\\OdorPixels\\Pilot1\\M481\\preprocessed\\M481-2024-01-15\\catgt_M481-2024-01-15_g0\\M481-2024-01-15_g0_tcat.nidq.xa_0_0.txt,D:\\NPX_Data\\OdorPixels\\Pilot1\\M481\\preprocessed\\M481-2024-01-15\\XA0_ON.txt' -events='5,D:\\NPX_Data\\OdorPixels\\Pilot1\\M481\\preprocessed\\M481-2024-01-15\\catgt_M481-2024-01-15_g0\\M481-2024-01-15_g0_tcat.nidq.xia_0_0.txt,D:\\NPX_Data\\OdorPixels\\Pilot1\\M481\\preprocessed\\M481-2024-01-15\\XA0_OFF.txt' -events='5,D:\\NPX_Data\\OdorPixels\\Pilot1\\M481\\preprocessed\\M481-2024-01-15\\catgt_M481-2024-01-15_g0\\M481-2024-01-15_g0_tcat.nidq.xa_1_0.txt,D:\\NPX_Data\\OdorPixels\\Pilot1\\M481\\preprocessed\\M481-2024-01-15\\XA1_ON.txt' -events='5,D:\\NPX_Data\\OdorPixels\\Pilot1\\M481\\preprocessed\\M481-2024-01-15\\catgt_M481-2024-01-15_g0\\M481-2024-01-15_g0_tcat.nidq.xia_1_0.txt,D:\\NPX_Data\\OdorPixels\\Pilot1\\M481\\preprocessed\\M481-2024-01-15\\XA1_OFF.txt' -events='5,D:\\NPX_Data\\OdorPixels\\Pilot1\\M481\\preprocessed\\M481-2024-01-15\\catgt_M481-2024-01-15_g0\\M481-2024-01-15_g0_tcat.nidq.xa_2_0.txt,D:\\NPX_Data\\OdorPixels\\Pilot1\\M481\\preprocessed\\M481-2024-01-15\\XA2_ON.txt' -events='5,D:\\NPX_Data\\OdorPixels\\Pilot1\\M481\\preprocessed\\M481-2024-01-15\\catgt_M481-2024-01-15_g0\\M481-2024-01-15_g0_tcat.nidq.xia_2_0.txt,D:\\NPX_Data\\OdorPixels\\Pilot1\\M481\\preprocessed\\M481-2024-01-15\\XA2_OFF.txt' -events='5,D:\\NPX_Data\\OdorPixels\\Pilot1\\M481\\preprocessed\\M481-2024-01-15\\catgt_M481-2024-01-15_g0\\M481-2024-01-15_g0_tcat.nidq.xa_3_0.txt,D:\\NPX_Data\\OdorPixels\\Pilot1\\M481\\preprocessed\\M481-2024-01-15\\XA3_ON.txt' -events='5,D:\\NPX_Data\\OdorPixels\\Pilot1\\M481\\preprocessed\\M481-2024-01-15\\catgt_M481-2024-01-15_g0\\M481-2024-01-15_g0_tcat.nidq.xia_3_0.txt,D:\\NPX_Data\\OdorPixels\\Pilot1\\M481\\preprocessed\\M481-2024-01-15\\XA3_OFF.txt' -events='5,D:\\NPX_Data\\OdorPixels\\Pilot1\\M481\\preprocessed\\M481-2024-01-15\\catgt_M481-2024-01-15_g0\\M481-2024-01-15_g0_tcat.nidq.xa_4_0.txt,D:\\NPX_Data\\OdorPixels\\Pilot1\\M481\\preprocessed\\M481-2024-01-15\\XA4_ON.txt' -events='5,D:\\NPX_Data\\OdorPixels\\Pilot1\\M481\\preprocessed\\M481-2024-01-15\\catgt_M481-2024-01-15_g0\\M481-2024-01-15_g0_tcat.nidq.xia_4_0.txt,D:\\NPX_Data\\OdorPixels\\Pilot1\\M481\\preprocessed\\M481-2024-01-15\\XA4_OFF.txt' -events='5,D:\\NPX_Data\\OdorPixels\\Pilot1\\M481\\preprocessed\\M481-2024-01-15\\catgt_M481-2024-01-15_g0\\M481-2024-01-15_g0_tcat.nidq.xa_5_0.txt,D:\\NPX_Data\\OdorPixels\\Pilot1\\M481\\preprocessed\\M481-2024-01-15\\XA5_ON.txt' -events='5,D:\\NPX_Data\\OdorPixels\\Pilot1\\M481\\preprocessed\\M481-2024-01-15\\catgt_M481-2024-01-15_g0\\M481-2024-01-15_g0_tcat.nidq.xia_5_0.txt,D:\\NPX_Data\\OdorPixels\\Pilot1\\M481\\preprocessed\\M481-2024-01-15\\XA5_OFF.txt' \n"
     ]
    }
   ],
   "source": [
    "events_params = ''\n",
    "for f_in, f_out in zip(analog_in_files, analog_out_files):\n",
    "    events_params += '-events=\\'5,{}{},{}{}\\' '.format(tsource_path, f_in, tdest_path, f_out)\n",
    "for f_in, f_out in zip(digital_in_files, digital_out_files):\n",
    "    events_params += '-events=\\'5,{}{},{}{}\\' '.format(tsource_path, f_in, tdest_path, f_out)\n",
    "print(events_params)"
   ]
  },
  {
   "cell_type": "code",
   "execution_count": 47,
   "id": "e0efed0e-4a58-44d3-b43b-2d8dc99e7692",
   "metadata": {},
   "outputs": [
    {
     "name": "stdout",
     "output_type": "stream",
     "text": [
      "C:\\TPrime-win/TPrime.exe -syncperiod='1.0' -tostream='D:\\NPX_Data\\OdorPixels\\Pilot1\\M481\\preprocessed\\M481-2024-01-15\\catgt_M481-2024-01-15_g0\\M481-2024-01-15_g0_tcat.imec0.ap.xd_384_6_500.txt' -fromstream='5,D:\\NPX_Data\\OdorPixels\\Pilot1\\M481\\preprocessed\\M481-2024-01-15\\catgt_M481-2024-01-15_g0\\M481-2024-01-15_g0_tcat.nidq.xd_8_0_500.txt' -events='5,D:\\NPX_Data\\OdorPixels\\Pilot1\\M481\\preprocessed\\M481-2024-01-15\\catgt_M481-2024-01-15_g0\\M481-2024-01-15_g0_tcat.nidq.xa_0_0.txt,D:\\NPX_Data\\OdorPixels\\Pilot1\\M481\\preprocessed\\M481-2024-01-15\\XA0_ON.txt' -events='5,D:\\NPX_Data\\OdorPixels\\Pilot1\\M481\\preprocessed\\M481-2024-01-15\\catgt_M481-2024-01-15_g0\\M481-2024-01-15_g0_tcat.nidq.xia_0_0.txt,D:\\NPX_Data\\OdorPixels\\Pilot1\\M481\\preprocessed\\M481-2024-01-15\\XA0_OFF.txt' -events='5,D:\\NPX_Data\\OdorPixels\\Pilot1\\M481\\preprocessed\\M481-2024-01-15\\catgt_M481-2024-01-15_g0\\M481-2024-01-15_g0_tcat.nidq.xa_1_0.txt,D:\\NPX_Data\\OdorPixels\\Pilot1\\M481\\preprocessed\\M481-2024-01-15\\XA1_ON.txt' -events='5,D:\\NPX_Data\\OdorPixels\\Pilot1\\M481\\preprocessed\\M481-2024-01-15\\catgt_M481-2024-01-15_g0\\M481-2024-01-15_g0_tcat.nidq.xia_1_0.txt,D:\\NPX_Data\\OdorPixels\\Pilot1\\M481\\preprocessed\\M481-2024-01-15\\XA1_OFF.txt' -events='5,D:\\NPX_Data\\OdorPixels\\Pilot1\\M481\\preprocessed\\M481-2024-01-15\\catgt_M481-2024-01-15_g0\\M481-2024-01-15_g0_tcat.nidq.xa_2_0.txt,D:\\NPX_Data\\OdorPixels\\Pilot1\\M481\\preprocessed\\M481-2024-01-15\\XA2_ON.txt' -events='5,D:\\NPX_Data\\OdorPixels\\Pilot1\\M481\\preprocessed\\M481-2024-01-15\\catgt_M481-2024-01-15_g0\\M481-2024-01-15_g0_tcat.nidq.xia_2_0.txt,D:\\NPX_Data\\OdorPixels\\Pilot1\\M481\\preprocessed\\M481-2024-01-15\\XA2_OFF.txt' -events='5,D:\\NPX_Data\\OdorPixels\\Pilot1\\M481\\preprocessed\\M481-2024-01-15\\catgt_M481-2024-01-15_g0\\M481-2024-01-15_g0_tcat.nidq.xa_3_0.txt,D:\\NPX_Data\\OdorPixels\\Pilot1\\M481\\preprocessed\\M481-2024-01-15\\XA3_ON.txt' -events='5,D:\\NPX_Data\\OdorPixels\\Pilot1\\M481\\preprocessed\\M481-2024-01-15\\catgt_M481-2024-01-15_g0\\M481-2024-01-15_g0_tcat.nidq.xia_3_0.txt,D:\\NPX_Data\\OdorPixels\\Pilot1\\M481\\preprocessed\\M481-2024-01-15\\XA3_OFF.txt' -events='5,D:\\NPX_Data\\OdorPixels\\Pilot1\\M481\\preprocessed\\M481-2024-01-15\\catgt_M481-2024-01-15_g0\\M481-2024-01-15_g0_tcat.nidq.xa_4_0.txt,D:\\NPX_Data\\OdorPixels\\Pilot1\\M481\\preprocessed\\M481-2024-01-15\\XA4_ON.txt' -events='5,D:\\NPX_Data\\OdorPixels\\Pilot1\\M481\\preprocessed\\M481-2024-01-15\\catgt_M481-2024-01-15_g0\\M481-2024-01-15_g0_tcat.nidq.xia_4_0.txt,D:\\NPX_Data\\OdorPixels\\Pilot1\\M481\\preprocessed\\M481-2024-01-15\\XA4_OFF.txt' -events='5,D:\\NPX_Data\\OdorPixels\\Pilot1\\M481\\preprocessed\\M481-2024-01-15\\catgt_M481-2024-01-15_g0\\M481-2024-01-15_g0_tcat.nidq.xa_5_0.txt,D:\\NPX_Data\\OdorPixels\\Pilot1\\M481\\preprocessed\\M481-2024-01-15\\XA5_ON.txt' -events='5,D:\\NPX_Data\\OdorPixels\\Pilot1\\M481\\preprocessed\\M481-2024-01-15\\catgt_M481-2024-01-15_g0\\M481-2024-01-15_g0_tcat.nidq.xia_5_0.txt,D:\\NPX_Data\\OdorPixels\\Pilot1\\M481\\preprocessed\\M481-2024-01-15\\XA5_OFF.txt' \n"
     ]
    }
   ],
   "source": [
    "# Final command to be copy-pasted in a powershell prompt\n",
    "print('{} {}'.format(tcommand_prefix, events_params))"
   ]
  },
  {
   "cell_type": "markdown",
   "id": "84443814-fe1e-4b78-9cc5-087b4980a342",
   "metadata": {},
   "source": [
    "**If it worked, then you will see the desired output files created at the destination folder.**\n",
    "\n",
    "**Otherwise check TPrime.log in the window that you ran the command from.**"
   ]
  },
  {
   "cell_type": "code",
   "execution_count": 48,
   "id": "2080e6ed-f3de-4029-8992-b1a5f89358b8",
   "metadata": {},
   "outputs": [],
   "source": [
    "# Get the ON and off times for each of the required channels\n",
    "nidq_channels = ['XA0', 'XA1', 'XA2', 'XA3', 'XA4', 'XA5'] # 'XD0', 'XD1', ... for digital channels\n",
    "input_path = 'D:\\\\NPX_Data\\\\OdorPixels\\\\Pilot1\\\\M481\\\\preprocessed\\\\M481-2024-01-15\\\\' # where XA1_ON etc live\n"
   ]
  },
  {
   "cell_type": "code",
   "execution_count": 49,
   "id": "f24be77a-71f8-4427-9916-2934fb8ad189",
   "metadata": {},
   "outputs": [],
   "source": [
    "flist = os.listdir(input_path)\n",
    "event_dict = {}\n",
    "for ch in nidq_channels:\n",
    "    events = [x for x in flist if ch in x]\n",
    "    for ev in events:\n",
    "        event_dict[ev[:-4]] = []\n",
    "        f = open(input_path+ev, 'r')\n",
    "        for line in f:\n",
    "            event_dict[ev[:-4]].append(float(line))"
   ]
  },
  {
   "cell_type": "code",
   "execution_count": 50,
   "id": "7ae161a6-5fd4-4259-904f-14762e869d6a",
   "metadata": {},
   "outputs": [],
   "source": [
    "event_dict['labels'] = [key for key in event_dict.keys()]\n",
    "events_mat_fname = 'D:\\\\NPX_Data\\\\OdorPixels\\\\Pilot1\\\\M465\\\\preprocessed\\\\M465-2024-02-01\\\\events.mat'\n",
    "scio.savemat(events_mat_fname, event_dict)"
   ]
  },
  {
   "cell_type": "markdown",
   "id": "df9e859c-00bf-4c43-924e-b4354610724f",
   "metadata": {},
   "source": [
    "# Matlab Code to load event times in `LoadEvents()` format\n",
    "\n",
    "```\n",
    "load(events.mat);\n",
    "events_ts = ts;\n",
    "\n",
    "for i = 1:size(labels,1)\r",
    "    \n",
    "events_ts.label{i} = labels(i,:);\n",
    "events_ts.t{i} = eval(events_ts.label)';\n",
    "\r",
    "```\n",
    "\n",
    "end"
   ]
  }
 ],
 "metadata": {
  "kernelspec": {
   "display_name": "Python 3 (ipykernel)",
   "language": "python",
   "name": "python3"
  },
  "language_info": {
   "codemirror_mode": {
    "name": "ipython",
    "version": 3
   },
   "file_extension": ".py",
   "mimetype": "text/x-python",
   "name": "python",
   "nbconvert_exporter": "python",
   "pygments_lexer": "ipython3",
   "version": "3.9.19"
  }
 },
 "nbformat": 4,
 "nbformat_minor": 5
}
