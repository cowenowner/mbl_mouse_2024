{
 "cells": [
  {
   "cell_type": "code",
   "execution_count": 88,
   "id": "d5c26ee5-3478-4610-805d-8cd8fb1df244",
   "metadata": {},
   "outputs": [],
   "source": [
    "import spikeinterface.full as si\n",
    "import probeinterface as pi\n",
    "import numpy as np\n",
    "import matplotlib.pyplot as plt\n",
    "import scipy.io as scio\n",
    "import os"
   ]
  },
  {
   "cell_type": "code",
   "execution_count": 42,
   "id": "596185af",
   "metadata": {},
   "outputs": [],
   "source": [
    "npx1_path = '/Users/manishm/Dropbox (Dartmouth College)/NSB2023/23242/01_7_6_23/HC101_23242_g0'\n",
    "npx2_path = '/Users/manishm/Dropbox (Dartmouth College)/NSB2023/23242/02_7_7_23/HC_2_Neuro2_g0/'"
   ]
  },
  {
   "cell_type": "code",
   "execution_count": 51,
   "id": "bacc6203-f884-4b70-a5b6-7771ac5c2b85",
   "metadata": {},
   "outputs": [
    {
     "data": {
      "text/plain": [
       "(['imec0.ap', 'nidq', 'imec0.lf'], ['imec0.ap', 'nidq', 'imec0.lf'])"
      ]
     },
     "execution_count": 51,
     "metadata": {},
     "output_type": "execute_result"
    }
   ],
   "source": [
    "si.get_neo_streams('spikeglx',npx1_path)"
   ]
  },
  {
   "cell_type": "code",
   "execution_count": 62,
   "id": "645562bf-19b9-4103-9f3d-2e50eb7ce834",
   "metadata": {},
   "outputs": [
    {
     "ename": "IndexError",
     "evalue": "list index out of range",
     "output_type": "error",
     "traceback": [
      "\u001b[0;31m---------------------------------------------------------------------------\u001b[0m",
      "\u001b[0;31mIndexError\u001b[0m                                Traceback (most recent call last)",
      "Cell \u001b[0;32mIn[62], line 1\u001b[0m\n\u001b[0;32m----> 1\u001b[0m probe \u001b[38;5;241m=\u001b[39m \u001b[43msi\u001b[49m\u001b[38;5;241;43m.\u001b[39;49m\u001b[43mread_spikeglx\u001b[49m\u001b[43m(\u001b[49m\u001b[43mos\u001b[49m\u001b[38;5;241;43m.\u001b[39;49m\u001b[43mpath\u001b[49m\u001b[38;5;241;43m.\u001b[39;49m\u001b[43mjoin\u001b[49m\u001b[43m(\u001b[49m\u001b[43mnpx2_path\u001b[49m\u001b[43m,\u001b[49m\u001b[43m \u001b[49m\u001b[38;5;124;43m'\u001b[39;49m\u001b[38;5;124;43mHC_2_Neuro2_g0_t0.nidq.meta\u001b[39;49m\u001b[38;5;124;43m'\u001b[39;49m\u001b[43m)\u001b[49m\u001b[43m)\u001b[49m\n",
      "File \u001b[0;32m~/anaconda3/envs/spikeinterface/lib/python3.11/site-packages/spikeinterface/extractors/neoextractors/spikeglx.py:50\u001b[0m, in \u001b[0;36mSpikeGLXRecordingExtractor.__init__\u001b[0;34m(self, folder_path, load_sync_channel, stream_id, stream_name, all_annotations)\u001b[0m\n\u001b[1;32m     48\u001b[0m \u001b[38;5;28;01mdef\u001b[39;00m \u001b[38;5;21m__init__\u001b[39m(\u001b[38;5;28mself\u001b[39m, folder_path, load_sync_channel\u001b[38;5;241m=\u001b[39m\u001b[38;5;28;01mFalse\u001b[39;00m, stream_id\u001b[38;5;241m=\u001b[39m\u001b[38;5;28;01mNone\u001b[39;00m, stream_name\u001b[38;5;241m=\u001b[39m\u001b[38;5;28;01mNone\u001b[39;00m, all_annotations\u001b[38;5;241m=\u001b[39m\u001b[38;5;28;01mFalse\u001b[39;00m):\n\u001b[1;32m     49\u001b[0m     neo_kwargs \u001b[38;5;241m=\u001b[39m \u001b[38;5;28mself\u001b[39m\u001b[38;5;241m.\u001b[39mmap_to_neo_kwargs(folder_path, load_sync_channel\u001b[38;5;241m=\u001b[39mload_sync_channel)\n\u001b[0;32m---> 50\u001b[0m     \u001b[43mNeoBaseRecordingExtractor\u001b[49m\u001b[38;5;241;43m.\u001b[39;49m\u001b[38;5;21;43m__init__\u001b[39;49m\u001b[43m(\u001b[49m\n\u001b[1;32m     51\u001b[0m \u001b[43m        \u001b[49m\u001b[38;5;28;43mself\u001b[39;49m\u001b[43m,\u001b[49m\u001b[43m \u001b[49m\u001b[43mstream_id\u001b[49m\u001b[38;5;241;43m=\u001b[39;49m\u001b[43mstream_id\u001b[49m\u001b[43m,\u001b[49m\u001b[43m \u001b[49m\u001b[43mstream_name\u001b[49m\u001b[38;5;241;43m=\u001b[39;49m\u001b[43mstream_name\u001b[49m\u001b[43m,\u001b[49m\u001b[43m \u001b[49m\u001b[43mall_annotations\u001b[49m\u001b[38;5;241;43m=\u001b[39;49m\u001b[43mall_annotations\u001b[49m\u001b[43m,\u001b[49m\u001b[43m \u001b[49m\u001b[38;5;241;43m*\u001b[39;49m\u001b[38;5;241;43m*\u001b[39;49m\u001b[43mneo_kwargs\u001b[49m\n\u001b[1;32m     52\u001b[0m \u001b[43m    \u001b[49m\u001b[43m)\u001b[49m\n\u001b[1;32m     54\u001b[0m     \u001b[38;5;66;03m# open the corresponding stream probe for LF and AP\u001b[39;00m\n\u001b[1;32m     55\u001b[0m     \u001b[38;5;66;03m# if load_sync_channel=False\u001b[39;00m\n\u001b[1;32m     56\u001b[0m     \u001b[38;5;28;01mif\u001b[39;00m \u001b[38;5;124m\"\u001b[39m\u001b[38;5;124mnidq\u001b[39m\u001b[38;5;124m\"\u001b[39m \u001b[38;5;129;01mnot\u001b[39;00m \u001b[38;5;129;01min\u001b[39;00m \u001b[38;5;28mself\u001b[39m\u001b[38;5;241m.\u001b[39mstream_id \u001b[38;5;129;01mand\u001b[39;00m \u001b[38;5;129;01mnot\u001b[39;00m load_sync_channel:\n",
      "File \u001b[0;32m~/anaconda3/envs/spikeinterface/lib/python3.11/site-packages/spikeinterface/extractors/neoextractors/neobaseextractor.py:210\u001b[0m, in \u001b[0;36mNeoBaseRecordingExtractor.__init__\u001b[0;34m(self, stream_id, stream_name, block_index, all_annotations, use_names_as_ids, **neo_kwargs)\u001b[0m\n\u001b[1;32m    205\u001b[0m         \u001b[38;5;28;01mraise\u001b[39;00m \u001b[38;5;167;01mValueError\u001b[39;00m(\n\u001b[1;32m    206\u001b[0m             \u001b[38;5;124mf\u001b[39m\u001b[38;5;124m\"\u001b[39m\u001b[38;5;124mThis reader have several streams: \u001b[39m\u001b[38;5;130;01m\\n\u001b[39;00m\u001b[38;5;124mNames: \u001b[39m\u001b[38;5;132;01m{\u001b[39;00mstream_names\u001b[38;5;132;01m}\u001b[39;00m\u001b[38;5;130;01m\\n\u001b[39;00m\u001b[38;5;124mIDs: \u001b[39m\u001b[38;5;132;01m{\u001b[39;00mstream_ids\u001b[38;5;132;01m}\u001b[39;00m\u001b[38;5;124m. \u001b[39m\u001b[38;5;124m\"\u001b[39m\n\u001b[1;32m    207\u001b[0m             \u001b[38;5;124mf\u001b[39m\u001b[38;5;124m\"\u001b[39m\u001b[38;5;124mSpecify it with the \u001b[39m\u001b[38;5;124m'\u001b[39m\u001b[38;5;124mstream_name\u001b[39m\u001b[38;5;124m'\u001b[39m\u001b[38;5;124m or \u001b[39m\u001b[38;5;124m'\u001b[39m\u001b[38;5;124mstream_id\u001b[39m\u001b[38;5;124m'\u001b[39m\u001b[38;5;124m arguments\u001b[39m\u001b[38;5;124m\"\u001b[39m\n\u001b[1;32m    208\u001b[0m         )\n\u001b[1;32m    209\u001b[0m     \u001b[38;5;28;01melse\u001b[39;00m:\n\u001b[0;32m--> 210\u001b[0m         stream_id \u001b[38;5;241m=\u001b[39m \u001b[43mstream_ids\u001b[49m\u001b[43m[\u001b[49m\u001b[38;5;241;43m0\u001b[39;49m\u001b[43m]\u001b[49m\n\u001b[1;32m    211\u001b[0m         stream_name \u001b[38;5;241m=\u001b[39m stream_names[\u001b[38;5;241m0\u001b[39m]\n\u001b[1;32m    212\u001b[0m \u001b[38;5;28;01melse\u001b[39;00m:\n",
      "\u001b[0;31mIndexError\u001b[0m: list index out of range"
     ]
    }
   ],
   "source": [
    "probe = si.read_spikeglx(os.path.join(npx2_path, 'HC_2_Neuro2_g0_t0.nidq.meta'), stream_name=)"
   ]
  },
  {
   "cell_type": "code",
   "execution_count": 60,
   "id": "eae1f1fd-4d62-4d1b-9725-a7ae1349f355",
   "metadata": {},
   "outputs": [
    {
     "data": {
      "text/plain": [
       "'/Users/manishm/Dropbox (Dartmouth College)/NSB2023/23242/02_7_7_23/HC_2_Neuro2_g0/HC_2_Neuro2_g0_imec0/HC_2_Neuro2_g0_t0.imec0.ap.meta'"
      ]
     },
     "execution_count": 60,
     "metadata": {},
     "output_type": "execute_result"
    }
   ],
   "source": [
    "os.path.join(npx2_path, 'HC_2_Neuro2_g0_imec0', 'HC_2_Neuro2_g0_t0.imec0.ap.meta')"
   ]
  },
  {
   "cell_type": "code",
   "execution_count": 61,
   "id": "45ec12a9-1bbe-47bc-bc1b-d1956100f362",
   "metadata": {},
   "outputs": [
    {
     "data": {
      "text/plain": [
       "'/Users/manishm/Dropbox (Dartmouth College)/NSB2023/23242/02_7_7_23/HC_2_Neuro2_g0/HC_2_Neuro2_g0_t0.nidq.meta'"
      ]
     },
     "execution_count": 61,
     "metadata": {},
     "output_type": "execute_result"
    }
   ],
   "source": [
    "os.path.join(npx2_path, 'HC_2_Neuro2_g0_t0.nidq.meta')"
   ]
  },
  {
   "cell_type": "code",
   "execution_count": null,
   "id": "7206bb98-0c65-46d9-9ab9-0db78116052d",
   "metadata": {},
   "outputs": [],
   "source": [
    "si.read_spikeglx()"
   ]
  },
  {
   "cell_type": "code",
   "execution_count": 52,
   "id": "941d8176",
   "metadata": {},
   "outputs": [],
   "source": [
    "raw_rec = si.read_spikeglx(npx2_path, stream_name='imec0.ap')\n",
    "ttls = si.read_spikeglx(npx2_path, stream_name='nidq')"
   ]
  },
  {
   "cell_type": "code",
   "execution_count": 65,
   "id": "2694e3e4-4c56-49c4-b5d2-988188081ba6",
   "metadata": {},
   "outputs": [],
   "source": [
    "this_probe = raw_rec.get_probe()"
   ]
  },
  {
   "cell_type": "code",
   "execution_count": 90,
   "id": "a017ab04-6101-4364-b7be-47613f90bbb1",
   "metadata": {},
   "outputs": [
    {
     "data": {
      "text/plain": [
       "2"
      ]
     },
     "execution_count": 90,
     "metadata": {},
     "output_type": "execute_result"
    }
   ],
   "source": [
    "this_probe.ndim"
   ]
  },
  {
   "cell_type": "code",
   "execution_count": 91,
   "id": "cac897c6-c6c6-43db-896c-1201c4e4d7ab",
   "metadata": {},
   "outputs": [
    {
     "data": {
      "image/png": "[encoded data removed]",
      "text/plain": [
       "<Figure size 640x480 with 1 Axes>"
      ]
     },
     "metadata": {},
     "output_type": "display_data"
    }
   ],
   "source": [
    "q0,q1 = pi.plotting.plot_probe(this_probe)"
   ]
  },
  {
   "cell_type": "code",
   "execution_count": 94,
   "id": "c083f6d3-6258-43a9-a0da-3cd6dc24162e",
   "metadata": {},
   "outputs": [],
   "source": [
    "vertices = this_probe.get_contact_vertices()"
   ]
  },
  {
   "cell_type": "code",
   "execution_count": 70,
   "id": "f70f9368-f21f-4b18-96d5-3c4637f130d6",
   "metadata": {},
   "outputs": [
    {
     "data": {
      "text/plain": [
       "(384, 2)"
      ]
     },
     "execution_count": 70,
     "metadata": {},
     "output_type": "execute_result"
    }
   ],
   "source": [
    "np.shape(raw_rec.get_channel_locations())"
   ]
  },
  {
   "cell_type": "markdown",
   "id": "f8a498a1",
   "metadata": {},
   "source": [
    "'nidq#AX4' is the odor TTL\\\n",
    "'nidq#AX1' is a quadrature signal\\\n",
    "'nidq#AX2' is a quadrature signal"
   ]
  },
  {
   "cell_type": "code",
   "execution_count": 7,
   "id": "8a196237",
   "metadata": {},
   "outputs": [],
   "source": [
    "this_ids = ['nidq#XA1', 'nidq#XA2', 'nidq#XA4']\n",
    "this_gain = [ttls.get_channel_property(channel_id=x, key='gain_to_uV') for x in this_ids]\n",
    "this_offset = [ttls.get_channel_property(channel_id=x, key='offset_to_uV') for x in this_ids]"
   ]
  },
  {
   "cell_type": "code",
   "execution_count": null,
   "id": "12690ace",
   "metadata": {},
   "outputs": [],
   "source": [
    "# TODO Plot quadrature signals and decoded speed\n",
    "plt.plot(ttls.get_traces(channel_ids=[this_ids[0]])*this_gain[0] + this_offset[0])\n",
    "plt.plot(ttls.get_traces(channel_ids=[this_ids[1]])*this_gain[1] + this_offset[1])"
   ]
  },
  {
   "cell_type": "markdown",
   "id": "d4b29f8e-4024-43e7-86ec-caf1698c9793",
   "metadata": {},
   "source": [
    "# Plotting the Odor indicator to see how to threshold"
   ]
  },
  {
   "cell_type": "code",
   "execution_count": 8,
   "id": "e8ec7c87",
   "metadata": {},
   "outputs": [
    {
     "data": {
      "text/plain": [
       "<matplotlib.lines.Line2D at 0x179b6bfd0>"
      ]
     },
     "execution_count": 8,
     "metadata": {},
     "output_type": "execute_result"
    },
    {
     "data": {
      "image/png": "[encoded data removed]",
      "text/plain": [
       "<Figure size 640x480 with 1 Axes>"
      ]
     },
     "metadata": {},
     "output_type": "display_data"
    }
   ],
   "source": [
    "this_signal = ttls.get_traces(channel_ids=[this_ids[2]])*this_gain[2] + this_offset[2]\n",
    "plt.plot(this_signal)\n",
    "plt.axhline(np.mean(this_signal) + np.std(this_signal), color='black')\n",
    "plt.axhline(np.mean(this_signal) - np.std(this_signal), color='red')\n",
    "plt.axhline(np.mean(this_signal) - 2.5*np.std(this_signal), color='green')\n",
    "plt.axhline(np.mean(this_signal) - 3.5*np.std(this_signal), color='black')"
   ]
  },
  {
   "cell_type": "code",
   "execution_count": 13,
   "id": "55ffc78f-ba26-4753-aefe-f91662582fee",
   "metadata": {},
   "outputs": [],
   "source": [
    "#The onset times are such that they are less than 2.5 SDs \n",
    "#and greater than 3.5 SDs but also the previous time should be  greater than 2.5 SDs\n",
    "thresh1 = np.mean(this_signal) - 2.5*np.std(this_signal);\n",
    "thresh2 = np.mean(this_signal) - 3.5*np.std(this_signal);"
   ]
  },
  {
   "cell_type": "code",
   "execution_count": 38,
   "id": "39319fcf",
   "metadata": {},
   "outputs": [],
   "source": [
    "temp_idx = np.argwhere((this_signal < thresh1) & (this_signal > thresh2))"
   ]
  },
  {
   "cell_type": "code",
   "execution_count": 39,
   "id": "a1b81eb0-01e9-424b-b116-a740ce65deef",
   "metadata": {},
   "outputs": [],
   "source": [
    "temp_idx = [x[0] for x in temp_idx]"
   ]
  },
  {
   "cell_type": "code",
   "execution_count": 40,
   "id": "0bf32424-aa27-402b-a3ca-0f0f48cf6174",
   "metadata": {},
   "outputs": [
    {
     "data": {
      "text/plain": [
       "array([-546722.41210938, -543670.65429688, -551605.22460938, ...,\n",
       "       -626678.46679688, -630950.92773438, -652313.23242188])"
      ]
     },
     "execution_count": 40,
     "metadata": {},
     "output_type": "execute_result"
    }
   ],
   "source": [
    "np.take(this_signal, temp_idx)"
   ]
  },
  {
   "cell_type": "code",
   "execution_count": 31,
   "id": "9eb99934-e4e6-4fe2-ac77-d1aa2d0e973b",
   "metadata": {},
   "outputs": [
    {
     "data": {
      "text/plain": [
       "(1734213, 2)"
      ]
     },
     "execution_count": 31,
     "metadata": {},
     "output_type": "execute_result"
    }
   ],
   "source": [
    "np.shape(onset_idx)"
   ]
  },
  {
   "cell_type": "code",
   "execution_count": 28,
   "id": "521bc23e",
   "metadata": {},
   "outputs": [
    {
     "data": {
      "text/plain": [
       "(62250189, 1)"
      ]
     },
     "execution_count": 28,
     "metadata": {},
     "output_type": "execute_result"
    }
   ],
   "source": [
    "np.shape(this_signal)"
   ]
  },
  {
   "cell_type": "code",
   "execution_count": null,
   "id": "df072ab4",
   "metadata": {},
   "outputs": [],
   "source": []
  },
  {
   "cell_type": "code",
   "execution_count": 85,
   "id": "361741b1",
   "metadata": {},
   "outputs": [
    {
     "data": {
      "text/plain": [
       "(-100.0, 4000.0)"
      ]
     },
     "execution_count": 85,
     "metadata": {},
     "output_type": "execute_result"
    },
    {
     "data": {
      "image/png": "[encoded data removed]",
      "text/plain": [
       "<Figure size 1500x1000 with 1 Axes>"
      ]
     },
     "metadata": {},
     "output_type": "display_data"
    }
   ],
   "source": [
    "fig, ax = plt.subplots(figsize=(15, 10))\n",
    "si.plot_probe_map(raw_rec, ax=ax, with_channel_ids=False)\n",
    "ax.set_ylim(-100, 4000)"
   ]
  },
  {
   "cell_type": "code",
   "execution_count": null,
   "id": "dc31762a",
   "metadata": {},
   "outputs": [],
   "source": [
    "bad_channel_ids, channel_labels = si.detect_bad_channels(raw_rec)"
   ]
  },
  {
   "cell_type": "code",
   "execution_count": null,
   "id": "5e77ab27",
   "metadata": {},
   "outputs": [],
   "source": [
    "channel_labels"
   ]
  }
 ],
 "metadata": {
  "kernelspec": {
   "display_name": "SpikeInterface",
   "language": "python",
   "name": "spikeinterface"
  },
  "language_info": {
   "codemirror_mode": {
    "name": "ipython",
    "version": 3
   },
   "file_extension": ".py",
   "mimetype": "text/x-python",
   "name": "python",
   "nbconvert_exporter": "python",
   "pygments_lexer": "ipython3",
   "version": "3.11.4"
  }
 },
 "nbformat": 4,
 "nbformat_minor": 5
}
