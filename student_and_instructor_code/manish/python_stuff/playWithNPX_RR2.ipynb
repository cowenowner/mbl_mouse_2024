{
 "cells": [
  {
   "cell_type": "code",
   "execution_count": 2,
   "id": "d5c26ee5-3478-4610-805d-8cd8fb1df244",
   "metadata": {
    "is_executing": true
   },
   "outputs": [],
   "source": [
    "import spikeinterface.full as si\n",
    "import probeinterface as pif\n",
    "import numpy as np\n",
    "import matplotlib.pyplot as plt\n",
    "import scipy.io as scio\n",
    "import os"
   ]
  },
  {
   "cell_type": "code",
   "execution_count": null,
   "id": "981e1a8b-6ca2-4de0-8933-7e5b8688d174",
   "metadata": {},
   "outputs": [],
   "source": []
  },
  {
   "cell_type": "code",
   "execution_count": 3,
   "id": "76c0e754",
   "metadata": {},
   "outputs": [
    {
     "data": {
      "text/plain": [
       "Text(0.5, 1.0, 'NPX 1')"
      ]
     },
     "execution_count": 3,
     "metadata": {},
     "output_type": "execute_result"
    },
    {
     "data": {
      "image/png": "[encoded data removed]",
      "text/plain": [
       "<Figure size 640x480 with 1 Axes>"
      ]
     },
     "metadata": {},
     "output_type": "display_data"
    }
   ],
   "source": [
    "# path to meta file\n",
    "meta_filename = os.path.join('F:', 'RR2_NPX_data', 'sub-M388', 'M388-2023-11-20_2_g0', \\\n",
    "    'M388-2023-11-20_2_g0_imec0', 'M388-2023-11-20_2_g0_tcat.imec0.ap.meta' )\n",
    "probe = pif.read_spikeglx(meta_filename)\n",
    "fig,ax = plt.subplots()\n",
    "pif.plotting.plot_probe(probe, ax=ax)\n",
    "ax.set_ylim([-200, 4000])\n",
    "ax.set_title('NPX 1')\n"
   ]
  },
  {
   "cell_type": "code",
   "execution_count": 4,
   "id": "2246e92e",
   "metadata": {},
   "outputs": [],
   "source": [
    "raw_rec = si.read_spikeglx(os.path.join('F:', 'RR2_NPX_data', 'sub-M388', 'M388-2023-11-20_2_g0', \\\n",
    "    'M388-2023-11-20_2_g0_imec0'), stream_name='imec0.ap')\n",
    "# non_neuronal = si.read_spikeglx(npx_path, stream_name='nidq', all_annotations=True)\n",
    "# Turns out only the the analog streams are read from thhe .nidq file, and not the digital events."
   ]
  },
  {
   "cell_type": "code",
   "execution_count": 5,
   "id": "01f8c531",
   "metadata": {},
   "outputs": [
    {
     "name": "stdout",
     "output_type": "stream",
     "text": [
      "bad_channel_ids, channel_labels\n",
      "imec0.ap#AP191, dead\n",
      "imec0.ap#AP366, out\n",
      "imec0.ap#AP367, out\n",
      "imec0.ap#AP368, out\n",
      "imec0.ap#AP369, out\n",
      "imec0.ap#AP370, out\n",
      "imec0.ap#AP371, out\n",
      "imec0.ap#AP372, out\n",
      "imec0.ap#AP373, out\n",
      "imec0.ap#AP374, out\n",
      "imec0.ap#AP375, out\n",
      "imec0.ap#AP376, out\n",
      "imec0.ap#AP377, out\n",
      "imec0.ap#AP378, out\n",
      "imec0.ap#AP379, out\n",
      "imec0.ap#AP380, out\n",
      "imec0.ap#AP381, out\n",
      "imec0.ap#AP382, out\n",
      "imec0.ap#AP383, out\n"
     ]
    }
   ],
   "source": [
    "rec1 = si.highpass_filter(raw_rec, freq_min=400.)\n",
    "bad_channel_ids, channel_labels = si.detect_bad_channels(rec1)\n",
    "print('bad_channel_ids, channel_labels')\n",
    "for bad_channel_id in bad_channel_ids:\n",
    "    index = int(bad_channel_id.split('AP')[1])\n",
    "    print('{}, {}'.format(bad_channel_id, channel_labels[index]))\n"
   ]
  },
  {
   "cell_type": "code",
   "execution_count": 6,
   "id": "2db7858c",
   "metadata": {},
   "outputs": [],
   "source": [
    "# Channels labeled 'out' make sense, not sure about the one marked 'dead' -- removing in any case (Confirm by viewing in SpikeGLX viewer)\n",
    "rec1  = rec1.remove_channels(bad_channel_ids)\n",
    "# rec1 = si.phase_shift(rec1) # No need to phase_shift it tcat has already been applied"
   ]
  },
  {
   "cell_type": "markdown",
   "id": "82555b9d",
   "metadata": {},
   "source": [
    "# Preparing for Kilo-sort"
   ]
  },
  {
   "cell_type": "markdown",
   "id": "6167ac3b",
   "metadata": {},
   "source": [
    "Kilosort needs a binary file and the code segment below"
   ]
  },
  {
   "cell_type": "code",
   "execution_count": 7,
   "id": "ddc31e4f",
   "metadata": {},
   "outputs": [
    {
     "name": "stdout",
     "output_type": "stream",
     "text": [
      "write_binary_recording with n_jobs = 20 and chunk_size = 30000\n"
     ]
    },
    {
     "data": {
      "application/vnd.jupyter.widget-view+json": {
       "model_id": "8ae07e532a6444e482128eb320337353",
       "version_major": 2,
       "version_minor": 0
      },
      "text/plain": [
       "write_binary_recording:   0%|          | 0/1592 [00:00<?, ?it/s]"
      ]
     },
     "metadata": {},
     "output_type": "display_data"
    }
   ],
   "source": [
    "ks_working_folder = 'F:\\\\Temp' # Make sure this folder does not exist\n",
    "job_kwargs = dict(n_jobs=20, chunk_duration='1s', progress_bar=True)\n",
    "rec1 = rec1.save(folder=ks_working_folder, format='binary', **job_kwargs)"
   ]
  },
  {
   "cell_type": "code",
   "execution_count": null,
   "id": "d9421cae",
   "metadata": {},
   "outputs": [],
   "source": [
    "# Hacky Step\n",
    "rec.set_channel_locations(rec4.get_channel_locations())"
   ]
  },
  {
   "cell_type": "code",
   "execution_count": null,
   "id": "f222dec0",
   "metadata": {},
   "outputs": [],
   "source": [
    "rec = si.BinaryRecordingExtractor('F:\\\\ks2_test\\\\preprocess\\\\traces_cached_seg0.raw', 30000, 'int16', 382)"
   ]
  },
  {
   "cell_type": "code",
   "execution_count": null,
   "id": "cccc4066",
   "metadata": {},
   "outputs": [],
   "source": [
    "ks2_path = 'D:\\\\AutomaticSpikeSort\\Kilosort-2_5'\n",
    "si.Kilosort2_5Sorter.set_kilosort2_5_path(ks2_path)\n",
    "si.Kilosort2_5Sorter.is_installed()"
   ]
  },
  {
   "cell_type": "code",
   "execution_count": null,
   "id": "6c4de6e1",
   "metadata": {},
   "outputs": [],
   "source": [
    "ks2_5_params = si.get_default_sorter_params('kilosort2_5')"
   ]
  },
  {
   "cell_type": "code",
   "execution_count": null,
   "id": "f1483b21",
   "metadata": {
    "scrolled": true
   },
   "outputs": [],
   "source": [
    "sorting = si.run_sorter('kilosort2_5', rec, output_folder=os.path.join(ks_working_folder, 'ks2_output'),\n",
    "                        verbose=True, remove_existing_folder=False, **ks2_5_params)"
   ]
  },
  {
   "cell_type": "code",
   "execution_count": null,
   "id": "45238543-376d-4d11-81d2-35c68047ec69",
   "metadata": {},
   "outputs": [],
   "source": [
    "np.shape(rec.get_channel_locations())"
   ]
  },
  {
   "cell_type": "markdown",
   "id": "f8a498a1",
   "metadata": {},
   "source": [
    "'nidq#AX4' is the odor TTL\\\n",
    "'nidq#AX1' is a quadrature signal\\\n",
    "'nidq#AX2' is a quadrature signal"
   ]
  },
  {
   "cell_type": "code",
   "execution_count": null,
   "id": "8a196237",
   "metadata": {},
   "outputs": [],
   "source": [
    "this_ids = ['nidq#XA1', 'nidq#XA2', 'nidq#XA4']\n",
    "this_gain = [ttls.get_channel_property(channel_id=x, key='gain_to_uV') for x in this_ids]\n",
    "this_offset = [ttls.get_channel_property(channel_id=x, key='offset_to_uV') for x in this_ids]"
   ]
  },
  {
   "cell_type": "code",
   "execution_count": null,
   "id": "12690ace",
   "metadata": {},
   "outputs": [],
   "source": [
    "# TODO Plot quadrature signals and decoded speed\n",
    "plt.plot(ttls.get_traces(channel_ids=[this_ids[0]])*this_gain[0] + this_offset[0])\n",
    "plt.plot(ttls.get_traces(channel_ids=[this_ids[1]])*this_gain[1] + this_offset[1])"
   ]
  },
  {
   "cell_type": "code",
   "execution_count": null,
   "id": "e8ec7c87",
   "metadata": {},
   "outputs": [],
   "source": [
    "this_signal = ttls.get_traces(channel_ids=[this_ids[2]])*this_gain[2] + this_offset[2]\n",
    "plt.plot(this_signal)\n",
    "plt.axhline(np.mean(this_signal) + np.std(this_signal), color='black')\n",
    "plt.axhline(np.mean(this_signal) - np.std(this_signal), color='red')\n",
    "plt.axhline(np.mean(this_signal) - 2.5*np.std(this_signal), color='green')\n",
    "plt.axhline(np.mean(this_signal) - 3.5*np.std(this_signal), color='black')"
   ]
  },
  {
   "cell_type": "code",
   "execution_count": null,
   "id": "55ffc78f-ba26-4753-aefe-f91662582fee",
   "metadata": {},
   "outputs": [],
   "source": [
    "#The onset times are such that they are less than 2.5 SDs \n",
    "#and greater than 3.5 SDs but also the previous time should be  greater than 2.5 SDs\n",
    "thresh1 = np.mean(this_signal) - 2.5*np.std(this_signal);\n",
    "thresh2 = np.mean(this_signal) - 3.5*np.std(this_signal);"
   ]
  },
  {
   "cell_type": "code",
   "execution_count": null,
   "id": "39319fcf",
   "metadata": {},
   "outputs": [],
   "source": [
    "temp_idx = np.argwhere((this_signal < thresh1) & (this_signal > thresh2))"
   ]
  },
  {
   "cell_type": "code",
   "execution_count": null,
   "id": "a1b81eb0-01e9-424b-b116-a740ce65deef",
   "metadata": {},
   "outputs": [],
   "source": [
    "temp_idx = [x[0] for x in temp_idx]"
   ]
  },
  {
   "cell_type": "code",
   "execution_count": null,
   "id": "0bf32424-aa27-402b-a3ca-0f0f48cf6174",
   "metadata": {},
   "outputs": [],
   "source": [
    "np.take(this_signal, temp_idx)"
   ]
  },
  {
   "cell_type": "code",
   "execution_count": null,
   "id": "9eb99934-e4e6-4fe2-ac77-d1aa2d0e973b",
   "metadata": {},
   "outputs": [],
   "source": [
    "np.shape(onset_idx)"
   ]
  },
  {
   "cell_type": "code",
   "execution_count": null,
   "id": "521bc23e",
   "metadata": {},
   "outputs": [],
   "source": [
    "np.shape(this_signal)"
   ]
  },
  {
   "cell_type": "code",
   "execution_count": null,
   "id": "df072ab4",
   "metadata": {},
   "outputs": [],
   "source": []
  },
  {
   "cell_type": "code",
   "execution_count": null,
   "id": "361741b1",
   "metadata": {},
   "outputs": [],
   "source": [
    "fig, ax = plt.subplots(figsize=(15, 10))\n",
    "si.plot_probe_map(raw_rec, ax=ax, with_channel_ids=False)\n",
    "ax.set_ylim(-100, 4000)"
   ]
  },
  {
   "cell_type": "code",
   "execution_count": null,
   "id": "dc31762a",
   "metadata": {},
   "outputs": [],
   "source": [
    "bad_channel_ids, channel_labels = si.detect_bad_channels(raw_rec)"
   ]
  },
  {
   "cell_type": "code",
   "execution_count": null,
   "id": "5e77ab27",
   "metadata": {},
   "outputs": [],
   "source": [
    "channel_labels"
   ]
  }
 ],
 "metadata": {
  "kernelspec": {
   "display_name": "Python 3 (ipykernel)",
   "language": "python",
   "name": "python3"
  },
  "language_info": {
   "codemirror_mode": {
    "name": "ipython",
    "version": 3
   },
   "file_extension": ".py",
   "mimetype": "text/x-python",
   "name": "python",
   "nbconvert_exporter": "python",
   "pygments_lexer": "ipython3",
   "version": "3.9.0"
  }
 },
 "nbformat": 4,
 "nbformat_minor": 5
}
