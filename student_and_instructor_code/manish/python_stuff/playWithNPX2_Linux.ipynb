{
 "cells": [
  {
   "cell_type": "code",
   "execution_count": 4,
   "id": "d5c26ee5-3478-4610-805d-8cd8fb1df244",
   "metadata": {
    "is_executing": true,
    "tags": []
   },
   "outputs": [],
   "source": [
    "import spikeinterface.full as si\n",
    "import probeinterface as pif\n",
    "from probeinterface.plotting import plot_probe\n",
    "import numpy as np\n",
    "import matplotlib.pyplot as plt\n",
    "import scipy.io as scio\n",
    "import os"
   ]
  },
  {
   "cell_type": "code",
   "execution_count": null,
   "id": "9ca5637c-3e2a-4335-adff-4e09694e4cb9",
   "metadata": {
    "tags": []
   },
   "outputs": [],
   "source": [
    "%matplotlib widget"
   ]
  },
  {
   "cell_type": "code",
   "execution_count": 5,
   "id": "5a010aa4-9b9a-4509-9523-7d9ea65c38a0",
   "metadata": {
    "tags": []
   },
   "outputs": [
    {
     "data": {
      "text/plain": [
       "Text(0.5, 1.0, 'NPX 1')"
      ]
     },
     "execution_count": 5,
     "metadata": {},
     "output_type": "execute_result"
    },
    {
     "data": {
      "image/png": "[encoded data removed]",
      "text/plain": [
       "<Figure size 640x480 with 1 Axes>"
      ]
     },
     "metadata": {},
     "output_type": "display_data"
    }
   ],
   "source": [
    "# path to meta file\n",
    "meta_filename = '/home/manishm/RR2_NPX/sub-M388/M388-2023-11-20_2_g0/M388-2023-11-20_2_g0_imec0/M388-2023-11-20_2_g0_tcat.imec0.ap.meta'\n",
    "probe = pif.read_spikeglx(meta_filename)\n",
    "fig,ax = plt.subplots()\n",
    "plot_probe(probe, ax=ax)\n",
    "ax.set_ylim([-200, 4000])\n",
    "ax.set_title('NPX 1')"
   ]
  },
  {
   "cell_type": "code",
   "execution_count": 6,
   "id": "2246e92e",
   "metadata": {
    "tags": []
   },
   "outputs": [],
   "source": [
    "raw_rec = si.read_spikeglx('/home/manishm/RR2_NPX/sub-M388/M388-2023-11-20_2_g0/M388-2023-11-20_2_g0_imec0', \\\n",
    "                           stream_name='imec0.ap')\n",
    "# non_neuronal = si.read_spikeglx(npx_path, stream_name='nidq', all_annotations=True)\n",
    "# Turns out only the the analog streams are read from thhe .nidq file, and not the digital events."
   ]
  },
  {
   "cell_type": "code",
   "execution_count": 7,
   "id": "2975f5e6-6e22-46bb-a9b8-e91fce3c397b",
   "metadata": {
    "tags": []
   },
   "outputs": [
    {
     "name": "stdout",
     "output_type": "stream",
     "text": [
      "bad_channel_ids, channel_labels\n",
      "imec0.ap#AP191, dead\n",
      "imec0.ap#AP364, out\n",
      "imec0.ap#AP365, out\n",
      "imec0.ap#AP366, out\n",
      "imec0.ap#AP367, out\n",
      "imec0.ap#AP368, out\n",
      "imec0.ap#AP369, out\n",
      "imec0.ap#AP370, out\n",
      "imec0.ap#AP371, out\n",
      "imec0.ap#AP372, out\n",
      "imec0.ap#AP373, out\n",
      "imec0.ap#AP374, out\n",
      "imec0.ap#AP375, out\n",
      "imec0.ap#AP376, out\n",
      "imec0.ap#AP377, out\n",
      "imec0.ap#AP378, out\n",
      "imec0.ap#AP379, out\n",
      "imec0.ap#AP380, out\n",
      "imec0.ap#AP381, out\n",
      "imec0.ap#AP382, out\n",
      "imec0.ap#AP383, out\n"
     ]
    }
   ],
   "source": [
    "rec1 = si.highpass_filter(raw_rec, freq_min=400.)\n",
    "bad_channel_ids, channel_labels = si.detect_bad_channels(rec1)\n",
    "print('bad_channel_ids, channel_labels')\n",
    "for bad_channel_id in bad_channel_ids:\n",
    "    index = int(bad_channel_id.split('AP')[1])\n",
    "    print('{}, {}'.format(bad_channel_id, channel_labels[index]))"
   ]
  },
  {
   "cell_type": "code",
   "execution_count": 8,
   "id": "68f86c70-012b-4c17-a49c-61e74f00ffe3",
   "metadata": {
    "tags": []
   },
   "outputs": [
    {
     "data": {
      "text/plain": [
       "(363, 2)"
      ]
     },
     "execution_count": 8,
     "metadata": {},
     "output_type": "execute_result"
    }
   ],
   "source": [
    "#Remove bad channels after crosschecking with SpikeGLX viewer\n",
    "rec1 = rec1.remove_channels(bad_channel_ids)\n",
    "np.shape(rec1.get_channel_locations())"
   ]
  },
  {
   "cell_type": "markdown",
   "id": "584ee2ff-7e98-4518-a492-f58336de5c5e",
   "metadata": {},
   "source": [
    "# **Kilosort requires a binary file as input so the code below does that**"
   ]
  },
  {
   "cell_type": "code",
   "execution_count": 9,
   "id": "19abfc8c-ee3e-40de-bb59-1ecbfff27f23",
   "metadata": {
    "tags": []
   },
   "outputs": [
    {
     "data": {
      "text/plain": [
       "True"
      ]
     },
     "execution_count": 9,
     "metadata": {},
     "output_type": "execute_result"
    }
   ],
   "source": [
    "ks_working_folder = '/ks2_t'\n",
    "# Make sure it exits and is in on the fastest memory drive\n",
    "os.path.exists(ks_working_folder)"
   ]
  },
  {
   "cell_type": "code",
   "execution_count": 11,
   "id": "ddc31e4f",
   "metadata": {
    "tags": []
   },
   "outputs": [
    {
     "name": "stdout",
     "output_type": "stream",
     "text": [
      "write_binary_recording with n_jobs = 40 and chunk_size = 30000\n"
     ]
    },
    {
     "data": {
      "application/vnd.jupyter.widget-view+json": {
       "model_id": "56d7a31fcfe049d09e64dc8dac1d5f35",
       "version_major": 2,
       "version_minor": 0
      },
      "text/plain": [
       "write_binary_recording:   0%|          | 0/1592 [00:00<?, ?it/s]"
      ]
     },
     "metadata": {},
     "output_type": "display_data"
    }
   ],
   "source": [
    "# Run this only if binary recording hasn't been written yet\n",
    "job_kwargs = dict(n_jobs=40, chunk_duration='1s', progress_bar=True)\n",
    "rec = rec1.save(folder=os.path.join(ks_working_folder,'preprocess'), format='binary', **job_kwargs)"
   ]
  },
  {
   "cell_type": "markdown",
   "id": "4d14986c-40cc-44ba-b90f-d2b99841808d",
   "metadata": {},
   "source": [
    "## **Run this only if the binary recording has already been written and progress was lost after that step**"
   ]
  },
  {
   "cell_type": "code",
   "execution_count": null,
   "id": "d9421cae",
   "metadata": {},
   "outputs": [],
   "source": [
    "# Number of good channels\n",
    "gc = 363;\n",
    "rec = si.BinaryRecordingExtractor('/ks2_t/preprocess/traces_cached_seg0.raw', 30000, 'int16', gc) \n",
    "# Hacky Steps because Binary recordings does not contain the following properties\n",
    "rec.set_channel_locations(rec1.get_channel_locations())\n",
    "rec.set_probe(rec1.get_probe())\n",
    "rec.set_property('contact_vector', rec1.get_property('contact_vector'))\n",
    "rec.annotate(is_filtered=True)"
   ]
  },
  {
   "cell_type": "code",
   "execution_count": null,
   "id": "c8253270-d6da-40cd-8206-1e9a530d8c24",
   "metadata": {
    "tags": []
   },
   "outputs": [],
   "source": [
    "# check manually for drifts (Straight lines are good, slanting lines indeicate drift)\n",
    "rec2 = si.common_reference(rec1, operator=\"median\", reference=\"global\")\n",
    "from spikeinterface.sortingcomponents.peak_detection import detect_peaks\n",
    "\n",
    "job_kwargs = dict(n_jobs=40, chunk_duration='1s', progress_bar=True)\n",
    "peaks = detect_peaks(rec2,  method='locally_exclusive',\n",
    "                     detect_threshold=5, **job_kwargs)\n",
    "from spikeinterface.sortingcomponents.peak_localization import localize_peaks\n",
    "\n",
    "peak_locations = localize_peaks(rec2, peaks, method='center_of_mass', **job_kwargs)\n",
    "\n",
    "fs = rec2.sampling_frequency\n",
    "fig, ax = plt.subplots(figsize=(10, 8))\n",
    "ax.scatter(peaks['sample_index'] / fs, peak_locations['y'], color='k', marker='.', alpha=0.002)"
   ]
  },
  {
   "cell_type": "code",
   "execution_count": null,
   "id": "d8f82b7e-638c-4a04-be88-89b0b2b4ed5c",
   "metadata": {
    "tags": []
   },
   "outputs": [],
   "source": [
    "fig, ax = plt.subplots(figsize=(15, 10))\n",
    "si.plot_probe_map(rec, ax=ax, with_channel_ids=True)\n",
    "ax.set_ylim(1000, 1500)\n",
    "\n",
    "ax.scatter(peak_locations['x'], peak_locations['y'], color='purple', alpha=0.002)"
   ]
  },
  {
   "cell_type": "code",
   "execution_count": 12,
   "id": "cccc4066",
   "metadata": {
    "tags": []
   },
   "outputs": [
    {
     "name": "stdout",
     "output_type": "stream",
     "text": [
      "Setting KILOSORT2_5_PATH environment variable for subprocess calls to: /home/manishm/Kilosort\n"
     ]
    },
    {
     "data": {
      "text/plain": [
       "True"
      ]
     },
     "execution_count": 12,
     "metadata": {},
     "output_type": "execute_result"
    }
   ],
   "source": [
    "ks2_path = '/home/manishm/Kilosort'\n",
    "si.Kilosort2_5Sorter.set_kilosort2_5_path(ks2_path)\n",
    "si.Kilosort2_5Sorter.is_installed() # Should return true, if not change path accordingly"
   ]
  },
  {
   "cell_type": "code",
   "execution_count": 13,
   "id": "6c4de6e1",
   "metadata": {
    "tags": []
   },
   "outputs": [
    {
     "name": "stdout",
     "output_type": "stream",
     "text": [
      "{'detect_threshold': 6, 'projection_threshold': [10, 4], 'preclust_threshold': 8, 'car': True, 'minFR': 0.1, 'minfr_goodchannels': 0.1, 'nblocks': 5, 'sig': 20, 'freq_min': 150, 'sigmaMask': 30, 'nPCs': 3, 'ntbuff': 64, 'nfilt_factor': 4, 'NT': None, 'AUCsplit': 0.9, 'do_correction': True, 'wave_length': 61, 'keep_good_only': False, 'skip_kilosort_preprocessing': False, 'scaleproc': None, 'save_rez_to_mat': False, 'delete_tmp_files': ('matlab_files',), 'delete_recording_dat': False, 'n_jobs': 16, 'chunk_duration': '1s', 'progress_bar': True, 'mp_context': None, 'max_threads_per_process': 1}\n"
     ]
    }
   ],
   "source": [
    "ks2_5_params = si.get_default_sorter_params('kilosort2_5')\n",
    "print(ks2_5_params)"
   ]
  },
  {
   "cell_type": "code",
   "execution_count": 14,
   "id": "f1483b21",
   "metadata": {
    "scrolled": true,
    "tags": []
   },
   "outputs": [
    {
     "name": "stdout",
     "output_type": "stream",
     "text": [
      "RUNNING SHELL SCRIPT: /ks2_t/ks2_output/sorter_output/run_kilosort2_5.sh\n",
      "\n",
      "\n",
      "                            < M A T L A B (R) >\n",
      "\n",
      "                  Copyright 1984-2021 The MathWorks, Inc.\n",
      "\n",
      "                  R2021b (9.11.0.1769968) 64-bit (glnxa64)\n",
      "\n",
      "                             September 17, 2021\n",
      "\n",
      "\n",
      "\n",
      " \n",
      "\n",
      "To get started, type doc.\n",
      "\n",
      "For product information, visit www.mathworks.com.\n",
      "\n",
      " \n",
      "\n",
      "Time   0s. Computing whitening matrix.. \n",
      "\n",
      "Getting channel whitening matrix... \n",
      "\n",
      "Channel-whitening matrix computed. \n",
      "\n",
      "Time   5s. Loading raw data and applying filters... \n",
      "\n",
      "Time 128s. Finished preprocessing 728 batches. \n",
      "\n",
      "Drift correction ENABLED\n",
      "\n",
      "pitch is 20 um\n",
      "\n",
      "0.23 sec, 1 batches, 3915 spikes \n",
      "\n",
      "22.73 sec, 101 batches, 453068 spikes \n",
      "\n",
      "44.02 sec, 201 batches, 909353 spikes \n",
      "\n",
      "65.08 sec, 301 batches, 1328724 spikes \n",
      "\n",
      "85.83 sec, 401 batches, 1849175 spikes \n",
      "\n",
      "106.63 sec, 501 batches, 2307832 spikes \n",
      "\n",
      "127.44 sec, 601 batches, 2753494 spikes \n",
      "\n",
      "148.28 sec, 701 batches, 3231953 spikes \n",
      "\n",
      "153.91 sec, 728 batches, 3376817 spikes \n",
      "\n",
      "time 216.48, Shifted up/down 728 batches. \n",
      "\n",
      "Time 220s. Optimizing templates ...\n",
      "\n",
      "220.87 sec, 1 / 728 batches, 32 units, nspks: 14.9505, mu: 24.7787, nst0: 163, merges: 0.0000, 0.0000, 1.4000 \n",
      "\n",
      "236.84 sec, 101 / 728 batches, 182 units, nspks: 3264.0869, mu: 15.9506, nst0: 4531, merges: 115.7816, 0.6156, 27.7310 \n",
      "\n",
      "253.66 sec, 201 / 728 batches, 186 units, nspks: 3399.7293, mu: 15.7246, nst0: 3731, merges: 139.2166, 0.4649, 28.6726 \n",
      "\n",
      "270.62 sec, 301 / 728 batches, 180 units, nspks: 3508.4489, mu: 15.0070, nst0: 3115, merges: 139.8011, 0.4112, 28.1618 \n",
      "\n",
      "287.56 sec, 401 / 728 batches, 174 units, nspks: 3540.8689, mu: 14.9062, nst0: 2981, merges: 140.4813, 0.3180, 27.6936 \n",
      "\n",
      "304.38 sec, 501 / 728 batches, 189 units, nspks: 3351.7642, mu: 15.0448, nst0: 3207, merges: 135.1316, 0.1475, 26.9684 \n",
      "\n",
      "320.92 sec, 601 / 728 batches, 179 units, nspks: 3275.3452, mu: 14.5251, nst0: 3746, merges: 124.3933, 0.2204, 23.9767 \n",
      "\n",
      "337.28 sec, 701 / 728 batches, 173 units, nspks: 3125.8700, mu: 13.8707, nst0: 3110, merges: 117.7200, 0.0896, 22.7726 \n",
      "\n",
      "Elapsed time is 341.623484 seconds.\n",
      "\n",
      "Finished learning templates \n",
      "\n",
      "Time 342s. Optimizing templates ...\n",
      "\n",
      "341.96 sec, 1 / 728 batches, 152 units, nspks: 2777.0000, mu: 14.6153, nst0: 4186 \n",
      "\n",
      "355.13 sec, 101 / 728 batches, 152 units, nspks: 312233.0000, mu: 14.6153, nst0: 7718 \n",
      "\n",
      "368.63 sec, 201 / 728 batches, 152 units, nspks: 649000.0000, mu: 14.6153, nst0: 4850 \n",
      "\n",
      "381.64 sec, 301 / 728 batches, 152 units, nspks: 970005.0000, mu: 14.6153, nst0: 4285 \n",
      "\n",
      "396.00 sec, 401 / 728 batches, 152 units, nspks: 1345772.0000, mu: 14.6153, nst0: 5798 \n",
      "\n",
      "409.59 sec, 501 / 728 batches, 152 units, nspks: 1689699.0000, mu: 14.6153, nst0: 5993 \n",
      "\n",
      "423.03 sec, 601 / 728 batches, 152 units, nspks: 2028638.0000, mu: 14.6153, nst0: 8278 \n",
      "\n",
      "436.71 sec, 701 / 728 batches, 152 units, nspks: 2370344.0000, mu: 14.6153, nst0: 5263 \n",
      "\n",
      "Elapsed time is 440.613017 seconds.\n",
      "\n",
      "Number of spikes before applying cutoff: 3876402\n",
      "\n",
      "initialized spike counts\n",
      "\n",
      "Found 2 splits, checked 1/154 clusters, nccg 1 \n",
      "\n",
      "Found 31 splits, checked 101/183 clusters, nccg 40 \n",
      "\n",
      "Found 32 splits, checked 101/184 clusters, nccg 40 \n",
      "\n",
      "Found 83 splits, checked 201/235 clusters, nccg 67 \n",
      "\n",
      "Finished splitting. Found 89 splits, checked 241/241 clusters, nccg 80 \n",
      "\n",
      "Removing 1.2131e+06 spikes below cutoff from rez.\n",
      "\n",
      "found 119 good units \n",
      "\n",
      "Saving results to Phy  \n",
      "\n",
      "kilosort2_5 run time 628.80s\n"
     ]
    }
   ],
   "source": [
    "sorting = si.run_sorter('kilosort2_5', rec, output_folder=os.path.join(ks_working_folder, 'ks2_output'),\n",
    "                        verbose=True, remove_existing_folder=False, **ks2_5_params)"
   ]
  },
  {
   "cell_type": "code",
   "execution_count": 15,
   "id": "e585cbe2-3bf3-4b4f-905a-ca474b196606",
   "metadata": {
    "tags": []
   },
   "outputs": [
    {
     "data": {
      "text/plain": [
       "KiloSortSortingExtractor: 241 units - 1 segments - 30.0kHz"
      ]
     },
     "execution_count": 15,
     "metadata": {},
     "output_type": "execute_result"
    }
   ],
   "source": [
    "sorting"
   ]
  },
  {
   "cell_type": "code",
   "execution_count": null,
   "id": "f08e31a1-bbc7-460b-81b6-70f5db285ef8",
   "metadata": {
    "tags": []
   },
   "outputs": [],
   "source": [
    "job_kwargs = dict(n_jobs=40, chunk_duration='1s', progress_bar=True)\n",
    "we = si.extract_waveforms(rec, sorting, folder=os.path.join(ks_working_folder, 'si_waveforms'), ms_before=1.5, ms_after=2.5, max_spikes_per_unit=1000, **job_kwargs)\n",
    "# Change the above line if more spikes are needed or if the waveform length needs to be different"
   ]
  },
  {
   "cell_type": "code",
   "execution_count": null,
   "id": "42a69983-3fe2-4207-a6e9-170c83d44a20",
   "metadata": {
    "tags": []
   },
   "outputs": [],
   "source": [
    "si.export_to_phy(we, os.path.join(ks_working_folder, 'si_phy'), **job_kwargs)"
   ]
  },
  {
   "cell_type": "markdown",
   "id": "70c893fa-d661-4e49-89ba-7a7c15745ec6",
   "metadata": {
    "tags": []
   },
   "source": [
    "# LFP analysis"
   ]
  },
  {
   "cell_type": "code",
   "execution_count": null,
   "id": "b50206b2-1d7b-4382-845b-d6dce579fa76",
   "metadata": {
    "tags": []
   },
   "outputs": [],
   "source": [
    "lfp.get_property_keys()"
   ]
  },
  {
   "cell_type": "code",
   "execution_count": null,
   "id": "c310fb44-e129-42be-8743-ea8f8d55d799",
   "metadata": {
    "tags": []
   },
   "outputs": [],
   "source": [
    "bad_channel_ids, channel_labels = si.detect_bad_channels(lfp)"
   ]
  },
  {
   "cell_type": "code",
   "execution_count": null,
   "id": "6d469fc7-5132-4a4b-9205-23193944c71c",
   "metadata": {
    "tags": []
   },
   "outputs": [],
   "source": [
    "lfp2 = si.phase_shift(lfp)\n",
    "lfp3 = si.common_reference(lfp2, operator=\"median\", reference=\"global\") # obviously wrong thing to do\n",
    "\n",
    "# here we use static plot using matplotlib backend\n",
    "fig, axs = plt.subplots(ncols=3, figsize=(20, 10))\n",
    "\n",
    "si.plot_timeseries(lfp, backend='matplotlib',  clim=(-50, 50), ax=axs[0])\n",
    "si.plot_timeseries(lfp2, backend='matplotlib',  clim=(-50, 50), ax=axs[1])\n",
    "si.plot_timeseries(lfp3, backend='matplotlib',  clim=(-50, 50), ax=axs[2])\n",
    "for i, label in enumerate(('original', 'phase_shift', 'final')):\n",
    "    axs[i].set_title(label)\n",
    "    \n",
    "plt.show()"
   ]
  },
  {
   "cell_type": "code",
   "execution_count": null,
   "id": "1bc5f6b3-abe3-4915-8bd7-fe5b731acde7",
   "metadata": {},
   "outputs": [],
   "source": []
  }
 ],
 "metadata": {
  "kernelspec": {
   "display_name": "Python 3 (ipykernel)",
   "language": "python",
   "name": "python3"
  },
  "language_info": {
   "codemirror_mode": {
    "name": "ipython",
    "version": 3
   },
   "file_extension": ".py",
   "mimetype": "text/x-python",
   "name": "python",
   "nbconvert_exporter": "python",
   "pygments_lexer": "ipython3",
   "version": "3.9.0"
  }
 },
 "nbformat": 4,
 "nbformat_minor": 5
}
