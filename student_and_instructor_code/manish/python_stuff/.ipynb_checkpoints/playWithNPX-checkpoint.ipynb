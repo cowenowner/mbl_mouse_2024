{
 "cells": [
  {
   "cell_type": "code",
   "execution_count": 1,
   "id": "d5c26ee5-3478-4610-805d-8cd8fb1df244",
   "metadata": {},
   "outputs": [
    {
     "name": "stderr",
     "output_type": "stream",
     "text": [
      "OMP: Info #276: omp_set_nested routine deprecated, please use omp_set_max_active_levels instead.\n"
     ]
    }
   ],
   "source": [
    "import spikeinterface.full as si\n",
    "import numpy as np\n",
    "import matplotlib.pyplot as plt"
   ]
  },
  {
   "cell_type": "code",
   "execution_count": 2,
   "id": "596185af",
   "metadata": {},
   "outputs": [],
   "source": [
    "npx1_path = '/Users/manishm/Dropbox (Dartmouth College)/NSB2023/23242/01_7_6_23/HC101_23242_g0'\n",
    "npx2_path = '/Users/manishm/Dropbox (Dartmouth College)/NSB2023/23242/02_7_7_23/HC_2_Neuro2_g0/'"
   ]
  },
  {
   "cell_type": "code",
   "execution_count": 25,
   "id": "bacc6203-f884-4b70-a5b6-7771ac5c2b85",
   "metadata": {},
   "outputs": [
    {
     "data": {
      "text/plain": [
       "(['imec0.ap', 'nidq', 'imec0.lf'], ['imec0.ap', 'nidq', 'imec0.lf'])"
      ]
     },
     "execution_count": 25,
     "metadata": {},
     "output_type": "execute_result"
    }
   ],
   "source": [
    "si.get_neo_streams('spikeglx',npx1_path)"
   ]
  },
  {
   "cell_type": "code",
   "execution_count": 13,
   "id": "941d8176",
   "metadata": {},
   "outputs": [],
   "source": [
    "raw_rec = si.read_spikeglx(npx2_path, stream_name='imec0.ap')\n",
    "ttls = si.read_spikeglx(npx2_path, stream_name='nidq')"
   ]
  },
  {
   "cell_type": "code",
   "execution_count": 27,
   "id": "9be4750d-8989-4b2e-a343-fe66ae3fe7e9",
   "metadata": {},
   "outputs": [],
   "source": [
    "raw_rec = si.phase_shift(raw_rec);"
   ]
  },
  {
   "cell_type": "code",
   "execution_count": 14,
   "id": "db52e721-eba7-4ac1-a606-ed9eedf2fcb4",
   "metadata": {},
   "outputs": [
    {
     "data": {
      "text/plain": [
       "array([0.00000000e+00, 3.33333333e-05, 6.66666667e-05, ...,\n",
       "       2.48998893e+03, 2.48998897e+03, 2.48998900e+03])"
      ]
     },
     "execution_count": 14,
     "metadata": {},
     "output_type": "execute_result"
    }
   ],
   "source": [
    "raw_rec.get_times()"
   ]
  },
  {
   "cell_type": "code",
   "execution_count": 15,
   "id": "df838a01-9aaf-42c8-9861-041d94ec7650",
   "metadata": {},
   "outputs": [
    {
     "data": {
      "text/plain": [
       "array([0.00000000e+00, 4.00000000e-05, 8.00000000e-05, ...,\n",
       "       2.49000744e+03, 2.49000748e+03, 2.49000752e+03])"
      ]
     },
     "execution_count": 15,
     "metadata": {},
     "output_type": "execute_result"
    }
   ],
   "source": [
    "ttls.get_times()"
   ]
  },
  {
   "cell_type": "code",
   "execution_count": 16,
   "id": "f70f9368-f21f-4b18-96d5-3c4637f130d6",
   "metadata": {},
   "outputs": [
    {
     "data": {
      "text/plain": [
       "array(['nidq#XA0', 'nidq#XA1', 'nidq#XA2', 'nidq#XA3', 'nidq#XA4',\n",
       "       'nidq#XA5', 'nidq#XA6', 'nidq#XA7'], dtype='<U64')"
      ]
     },
     "execution_count": 16,
     "metadata": {},
     "output_type": "execute_result"
    }
   ],
   "source": [
    "ttls.get_channel_ids()"
   ]
  },
  {
   "cell_type": "markdown",
   "id": "f8a498a1",
   "metadata": {},
   "source": [
    "'nidq#AX4' is the odor TTL\\\n",
    "'nidq#AX1' is a quadrature signal\\\n",
    "'nidq#AX2' is a quadrature signal"
   ]
  },
  {
   "cell_type": "code",
   "execution_count": 19,
   "id": "8a196237",
   "metadata": {},
   "outputs": [],
   "source": [
    "this_ids = ['nidq#XA1', 'nidq#XA2', 'nidq#XA4']\n",
    "this_gain = [ttls.get_channel_property(channel_id=x, key='gain_to_uV') for x in this_ids]\n",
    "this_offset = [ttls.get_channel_property(channel_id=x, key='offset_to_uV') for x in this_ids]"
   ]
  },
  {
   "cell_type": "code",
   "execution_count": null,
   "id": "12690ace",
   "metadata": {},
   "outputs": [],
   "source": [
    "# TODO Plot quadrature signals and decoded speed\n",
    "plt.plot(ttls.get_traces(channel_ids=[this_ids[0]])*this_gain[0] + this_offset[0])\n",
    "plt.plot(ttls.get_traces(channel_ids=[this_ids[1]])*this_gain[1] + this_offset[1])"
   ]
  },
  {
   "cell_type": "markdown",
   "id": "d4b29f8e-4024-43e7-86ec-caf1698c9793",
   "metadata": {},
   "source": [
    "# Plotting the Odor indicator to see how to threshold"
   ]
  },
  {
   "cell_type": "code",
   "execution_count": 24,
   "id": "e8ec7c87",
   "metadata": {},
   "outputs": [
    {
     "data": {
      "text/plain": [
       "<matplotlib.lines.Line2D at 0x28bf07690>"
      ]
     },
     "execution_count": 24,
     "metadata": {},
     "output_type": "execute_result"
    },
    {
     "data": {
      "image/png": "[encoded data removed]",
      "text/plain": [
       "<Figure size 640x480 with 1 Axes>"
      ]
     },
     "metadata": {},
     "output_type": "display_data"
    }
   ],
   "source": [
    "this_signal = ttls.get_traces(channel_ids=[this_ids[2]])*this_gain[2] + this_offset[2]\n",
    "plt.plot(this_signal)\n",
    "plt.axhline(np.mean(this_signal) + np.std(this_signal), color='black')\n",
    "plt.axhline(np.mean(this_signal) - np.std(this_signal), color='red')\n",
    "plt.axhline(np.mean(this_signal) - 2.5*np.std(this_signal), color='green')\n",
    "plt.axhline(np.mean(this_signal) - 3.5*np.std(this_signal), color='black')"
   ]
  },
  {
   "cell_type": "code",
   "execution_count": 46,
   "id": "55ffc78f-ba26-4753-aefe-f91662582fee",
   "metadata": {},
   "outputs": [
    {
     "ename": "SyntaxError",
     "evalue": "unmatched ']' (1177572645.py, line 6)",
     "output_type": "error",
     "traceback": [
      "\u001b[0;36m  Cell \u001b[0;32mIn[46], line 6\u001b[0;36m\u001b[0m\n\u001b[0;31m    for i in range (len(this_signal))]\u001b[0m\n\u001b[0m                                     ^\u001b[0m\n\u001b[0;31mSyntaxError\u001b[0m\u001b[0;31m:\u001b[0m unmatched ']'\n"
     ]
    }
   ],
   "source": [
    "#The onset times are such that they are less than 2.5 SDs \n",
    "#and greater than 3.5 SDs but also the previous time should be  greater than 2.5 SDs\n",
    "thresh1 = np.mean(this_signal) - 2.5*np.std(this_signal);\n",
    "thresh2 = np.mean(this_signal) - 3.5*np.std(this_signal);\n",
    "onset_idx= [True if (this_signal[i]<thresh1) & (this_signal[i]>thresh2) & (this_signal[i-1]>thresh1)] else False \\\n",
    "            for i in range (len(this_signal))]"
   ]
  },
  {
   "cell_type": "code",
   "execution_count": 45,
   "id": "39319fcf",
   "metadata": {},
   "outputs": [
    {
     "data": {
      "text/plain": [
       "62250189"
      ]
     },
     "execution_count": 45,
     "metadata": {},
     "output_type": "execute_result"
    }
   ],
   "source": [
    "np.shape(this_signal)[0]"
   ]
  },
  {
   "cell_type": "code",
   "execution_count": null,
   "id": "b485ba6b",
   "metadata": {},
   "outputs": [],
   "source": [
    "np.mean(ttls.get_traces(channel_ids=[this_ids[2]])), np.std(ttls.get_traces(channel_ids=[this_ids[2]]))"
   ]
  },
  {
   "cell_type": "code",
   "execution_count": null,
   "id": "521bc23e",
   "metadata": {},
   "outputs": [],
   "source": [
    "plt."
   ]
  },
  {
   "cell_type": "code",
   "execution_count": null,
   "id": "17d726b4",
   "metadata": {},
   "outputs": [],
   "source": [
    "plt.plot(ttls.get_traces(channel_ids=['nidq#XA4'])*this_gain[2] + this_offset[2])"
   ]
  },
  {
   "cell_type": "code",
   "execution_count": null,
   "id": "df072ab4",
   "metadata": {},
   "outputs": [],
   "source": []
  },
  {
   "cell_type": "code",
   "execution_count": null,
   "id": "361741b1",
   "metadata": {},
   "outputs": [],
   "source": [
    "fig, ax = plt.subplots(figsize=(15, 10))\n",
    "si.plot_probe_map(raw_rec, ax=ax, with_channel_ids=False)\n",
    "ax.set_ylim(-100, 4000)"
   ]
  },
  {
   "cell_type": "code",
   "execution_count": null,
   "id": "dc31762a",
   "metadata": {},
   "outputs": [],
   "source": [
    "bad_channel_ids, channel_labels = si.detect_bad_channels(raw_rec)"
   ]
  },
  {
   "cell_type": "code",
   "execution_count": null,
   "id": "5e77ab27",
   "metadata": {},
   "outputs": [],
   "source": [
    "channel_labels"
   ]
  }
 ],
 "metadata": {
  "kernelspec": {
   "display_name": "SpikeInterface",
   "language": "python",
   "name": "spikeinterface"
  },
  "language_info": {
   "codemirror_mode": {
    "name": "ipython",
    "version": 3
   },
   "file_extension": ".py",
   "mimetype": "text/x-python",
   "name": "python",
   "nbconvert_exporter": "python",
   "pygments_lexer": "ipython3",
   "version": "3.11.4"
  }
 },
 "nbformat": 4,
 "nbformat_minor": 5
}
