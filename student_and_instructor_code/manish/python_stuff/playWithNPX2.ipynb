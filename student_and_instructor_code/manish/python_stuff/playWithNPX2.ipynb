{
 "cells": [
  {
   "cell_type": "code",
   "execution_count": 1,
   "id": "d5c26ee5-3478-4610-805d-8cd8fb1df244",
   "metadata": {
    "is_executing": true
   },
   "outputs": [],
   "source": [
    "import spikeinterface.full as si\n",
    "import probeinterface as pif\n",
    "import numpy as np\n",
    "import matplotlib.pyplot as plt\n",
    "import scipy.io as scio\n",
    "import os"
   ]
  },
  {
   "cell_type": "code",
   "execution_count": 2,
   "id": "596185af",
   "metadata": {},
   "outputs": [],
   "source": [
    "npx1_path = os.path.join('E:', 'Dropbox (Dartmouth College)', 'NSB2023', '23242', '01_7_6_23', 'HC101_23242_g0')\n",
    "npx2_path = os.path.join('E:', 'Dropbox (Dartmouth College)', 'NSB2023', '23242', '02_7_7_23', 'HC_2_Neuro2_g0')"
   ]
  },
  {
   "cell_type": "code",
   "execution_count": null,
   "id": "bacc6203-f884-4b70-a5b6-7771ac5c2b85",
   "metadata": {},
   "outputs": [],
   "source": [
    "si.get_neo_streams('spikeglx',npx2_path)"
   ]
  },
  {
   "cell_type": "code",
   "execution_count": 3,
   "id": "76c0e754",
   "metadata": {},
   "outputs": [],
   "source": [
    "meta_filename = os.path.join('E:', 'Dropbox (Dartmouth College)', 'NSB2023', '23242', '02_7_7_23', 'HC_2_Neuro2_g0', 'HC_2_Neuro2_g0_imec0', 'HC_2_Neuro2_g0_t0.imec0.ap.meta')"
   ]
  },
  {
   "cell_type": "code",
   "execution_count": 14,
   "id": "59ba95ba",
   "metadata": {},
   "outputs": [],
   "source": [
    "probe = pif.read_spikeglx(meta_filename)"
   ]
  },
  {
   "cell_type": "code",
   "execution_count": 15,
   "id": "4db21ebf",
   "metadata": {},
   "outputs": [
    {
     "data": {
      "text/plain": [
       "array(['s1e0', 's1e1', 's1e2', 's1e3', 's1e4', 's1e5', 's1e6', 's1e7',\n",
       "       's1e8', 's1e9', 's1e10', 's1e11', 's1e12', 's1e13', 's1e14',\n",
       "       's1e15', 's2e16', 's2e17', 's2e18', 's2e19', 's2e20', 's2e21',\n",
       "       's2e22', 's2e23', 's2e24', 's2e25', 's2e26', 's2e27', 's2e28',\n",
       "       's2e29', 's2e30', 's2e31', 's2e32', 's2e33', 's2e34', 's2e35',\n",
       "       's2e36', 's2e37', 's2e38', 's2e39', 's2e40', 's2e41', 's2e42',\n",
       "       's2e43', 's2e44', 's2e45', 's2e46', 's2e47', 's2e48', 's2e49',\n",
       "       's2e50', 's2e51', 's2e52', 's2e53', 's2e54', 's2e55', 's2e56',\n",
       "       's2e57', 's2e58', 's2e59', 's2e60', 's2e61', 's2e62', 's2e63',\n",
       "       's2e64', 's2e65', 's2e66', 's2e67', 's2e68', 's2e69', 's2e70',\n",
       "       's2e71', 's2e72', 's2e73', 's2e74', 's2e75', 's2e76', 's2e77',\n",
       "       's2e78', 's2e79', 's2e80', 's2e81', 's2e82', 's2e83', 's2e84',\n",
       "       's2e85', 's2e86', 's2e87', 's2e88', 's2e89', 's2e90', 's2e91',\n",
       "       's2e92', 's2e93', 's2e94', 's2e95', 's2e96', 's2e97', 's2e98',\n",
       "       's2e99', 's2e100', 's2e101', 's2e102', 's2e103', 's2e104',\n",
       "       's2e105', 's2e106', 's2e107', 's2e108', 's2e109', 's2e110',\n",
       "       's2e111', 's2e112', 's2e113', 's2e114', 's2e115', 's2e116',\n",
       "       's2e117', 's2e118', 's2e119', 's2e120', 's2e121', 's2e122',\n",
       "       's2e123', 's2e124', 's2e125', 's2e126', 's2e127', 's2e128',\n",
       "       's2e129', 's2e130', 's2e131', 's2e132', 's2e133', 's2e134',\n",
       "       's2e135', 's2e136', 's2e137', 's2e138', 's2e139', 's2e140',\n",
       "       's2e141', 's2e142', 's2e143', 's2e144', 's2e145', 's2e146',\n",
       "       's2e147', 's2e148', 's2e149', 's2e150', 's2e151', 's2e152',\n",
       "       's2e153', 's2e154', 's2e155', 's2e156', 's2e157', 's2e158',\n",
       "       's2e159', 's2e160', 's2e161', 's2e162', 's2e163', 's2e164',\n",
       "       's2e165', 's2e166', 's2e167', 's2e168', 's2e169', 's2e170',\n",
       "       's2e171', 's2e172', 's2e173', 's2e174', 's2e175', 's2e176',\n",
       "       's2e177', 's2e178', 's2e179', 's2e180', 's2e181', 's2e182',\n",
       "       's2e183', 's2e184', 's2e185', 's2e186', 's2e187', 's2e188',\n",
       "       's2e189', 's2e190', 's2e191', 's1e192', 's1e193', 's1e194',\n",
       "       's1e195', 's1e196', 's1e197', 's1e198', 's1e199', 's1e200',\n",
       "       's1e201', 's1e202', 's1e203', 's1e204', 's1e205', 's1e206',\n",
       "       's1e207', 's1e208', 's1e209', 's1e210', 's1e211', 's1e212',\n",
       "       's1e213', 's1e214', 's1e215', 's1e216', 's1e217', 's1e218',\n",
       "       's1e219', 's1e220', 's1e221', 's1e222', 's1e223', 's1e224',\n",
       "       's1e225', 's1e226', 's1e227', 's1e228', 's1e229', 's1e230',\n",
       "       's1e231', 's1e232', 's1e233', 's1e234', 's1e235', 's1e236',\n",
       "       's1e237', 's1e238', 's1e239', 's2e240', 's2e241', 's2e242',\n",
       "       's2e243', 's2e244', 's2e245', 's2e246', 's2e247', 's2e248',\n",
       "       's2e249', 's2e250', 's2e251', 's2e252', 's2e253', 's2e254',\n",
       "       's2e255', 's1e256', 's1e257', 's1e258', 's1e259', 's1e260',\n",
       "       's1e261', 's1e262', 's1e263', 's1e264', 's1e265', 's1e266',\n",
       "       's1e267', 's1e268', 's1e269', 's1e270', 's1e271', 's1e272',\n",
       "       's1e273', 's1e274', 's1e275', 's1e276', 's1e277', 's1e278',\n",
       "       's1e279', 's1e280', 's1e281', 's1e282', 's1e283', 's1e284',\n",
       "       's1e285', 's1e286', 's1e287', 's1e288', 's1e289', 's1e290',\n",
       "       's1e291', 's1e292', 's1e293', 's1e294', 's1e295', 's1e296',\n",
       "       's1e297', 's1e298', 's1e299', 's1e300', 's1e301', 's1e302',\n",
       "       's1e303', 's1e304', 's1e305', 's1e306', 's1e307', 's1e308',\n",
       "       's1e309', 's1e310', 's1e311', 's1e312', 's1e313', 's1e314',\n",
       "       's1e315', 's1e316', 's1e317', 's1e318', 's1e319', 's1e320',\n",
       "       's1e321', 's1e322', 's1e323', 's1e324', 's1e325', 's1e326',\n",
       "       's1e327', 's1e328', 's1e329', 's1e330', 's1e331', 's1e332',\n",
       "       's1e333', 's1e334', 's1e335', 's1e336', 's1e337', 's1e338',\n",
       "       's1e339', 's1e340', 's1e341', 's1e342', 's1e343', 's1e344',\n",
       "       's1e345', 's1e346', 's1e347', 's1e348', 's1e349', 's1e350',\n",
       "       's1e351', 's1e352', 's1e353', 's1e354', 's1e355', 's1e356',\n",
       "       's1e357', 's1e358', 's1e359', 's1e360', 's1e361', 's1e362',\n",
       "       's1e363', 's1e364', 's1e365', 's1e366', 's1e367', 's1e368',\n",
       "       's1e369', 's1e370', 's1e371', 's1e372', 's1e373', 's1e374',\n",
       "       's1e375', 's1e376', 's1e377', 's1e378', 's1e379', 's1e380',\n",
       "       's1e381', 's1e382', 's1e383'], dtype='<U6')"
      ]
     },
     "execution_count": 15,
     "metadata": {},
     "output_type": "execute_result"
    }
   ],
   "source": [
    "probe._contact_ids"
   ]
  },
  {
   "cell_type": "code",
   "execution_count": 10,
   "id": "f56d687b",
   "metadata": {},
   "outputs": [
    {
     "data": {
      "text/plain": [
       "['__class__',\n",
       " '__delattr__',\n",
       " '__dict__',\n",
       " '__dir__',\n",
       " '__doc__',\n",
       " '__eq__',\n",
       " '__format__',\n",
       " '__ge__',\n",
       " '__getattribute__',\n",
       " '__gt__',\n",
       " '__hash__',\n",
       " '__init__',\n",
       " '__init_subclass__',\n",
       " '__le__',\n",
       " '__lt__',\n",
       " '__module__',\n",
       " '__ne__',\n",
       " '__new__',\n",
       " '__reduce__',\n",
       " '__reduce_ex__',\n",
       " '__repr__',\n",
       " '__setattr__',\n",
       " '__sizeof__',\n",
       " '__str__',\n",
       " '__subclasshook__',\n",
       " '__weakref__',\n",
       " '_contact_ids',\n",
       " '_contact_plane_axes',\n",
       " '_contact_positions',\n",
       " '_contact_shape_params',\n",
       " '_contact_shapes',\n",
       " '_dump_attr_names',\n",
       " '_probe_group',\n",
       " '_shank_ids',\n",
       " 'annotate',\n",
       " 'annotate_contacts',\n",
       " 'annotations',\n",
       " 'check_annotations',\n",
       " 'contact_annotations',\n",
       " 'contact_ids',\n",
       " 'contact_plane_axes',\n",
       " 'contact_positions',\n",
       " 'contact_shape_params',\n",
       " 'contact_shapes',\n",
       " 'copy',\n",
       " 'create_auto_shape',\n",
       " 'device_channel_indices',\n",
       " 'from_dataframe',\n",
       " 'from_dict',\n",
       " 'from_numpy',\n",
       " 'get_contact_count',\n",
       " 'get_contact_vertices',\n",
       " 'get_shank_count',\n",
       " 'get_shanks',\n",
       " 'get_slice',\n",
       " 'get_title',\n",
       " 'move',\n",
       " 'ndim',\n",
       " 'probe_planar_contour',\n",
       " 'rotate',\n",
       " 'rotate_contacts',\n",
       " 'set_contact_ids',\n",
       " 'set_contacts',\n",
       " 'set_device_channel_indices',\n",
       " 'set_planar_contour',\n",
       " 'set_shank_ids',\n",
       " 'shank_ids',\n",
       " 'si_units',\n",
       " 'to_2d',\n",
       " 'to_3d',\n",
       " 'to_dataframe',\n",
       " 'to_dict',\n",
       " 'to_image',\n",
       " 'to_numpy',\n",
       " 'wiring_to_device']"
      ]
     },
     "execution_count": 10,
     "metadata": {},
     "output_type": "execute_result"
    }
   ],
   "source": [
    "dir(probe)"
   ]
  },
  {
   "cell_type": "code",
   "execution_count": 13,
   "id": "90b879cc",
   "metadata": {},
   "outputs": [
    {
     "data": {
      "text/plain": [
       "array(['1', '1', '1', '1', '1', '1', '1', '1', '1', '1', '1', '1', '1',\n",
       "       '1', '1', '1', '2', '2', '2', '2', '2', '2', '2', '2', '2', '2',\n",
       "       '2', '2', '2', '2', '2', '2', '2', '2', '2', '2', '2', '2', '2',\n",
       "       '2', '2', '2', '2', '2', '2', '2', '2', '2', '2', '2', '2', '2',\n",
       "       '2', '2', '2', '2', '2', '2', '2', '2', '2', '2', '2', '2', '2',\n",
       "       '2', '2', '2', '2', '2', '2', '2', '2', '2', '2', '2', '2', '2',\n",
       "       '2', '2', '2', '2', '2', '2', '2', '2', '2', '2', '2', '2', '2',\n",
       "       '2', '2', '2', '2', '2', '2', '2', '2', '2', '2', '2', '2', '2',\n",
       "       '2', '2', '2', '2', '2', '2', '2', '2', '2', '2', '2', '2', '2',\n",
       "       '2', '2', '2', '2', '2', '2', '2', '2', '2', '2', '2', '2', '2',\n",
       "       '2', '2', '2', '2', '2', '2', '2', '2', '2', '2', '2', '2', '2',\n",
       "       '2', '2', '2', '2', '2', '2', '2', '2', '2', '2', '2', '2', '2',\n",
       "       '2', '2', '2', '2', '2', '2', '2', '2', '2', '2', '2', '2', '2',\n",
       "       '2', '2', '2', '2', '2', '2', '2', '2', '2', '2', '2', '2', '2',\n",
       "       '2', '2', '2', '2', '2', '2', '2', '2', '2', '2', '1', '1', '1',\n",
       "       '1', '1', '1', '1', '1', '1', '1', '1', '1', '1', '1', '1', '1',\n",
       "       '1', '1', '1', '1', '1', '1', '1', '1', '1', '1', '1', '1', '1',\n",
       "       '1', '1', '1', '1', '1', '1', '1', '1', '1', '1', '1', '1', '1',\n",
       "       '1', '1', '1', '1', '1', '1', '2', '2', '2', '2', '2', '2', '2',\n",
       "       '2', '2', '2', '2', '2', '2', '2', '2', '2', '1', '1', '1', '1',\n",
       "       '1', '1', '1', '1', '1', '1', '1', '1', '1', '1', '1', '1', '1',\n",
       "       '1', '1', '1', '1', '1', '1', '1', '1', '1', '1', '1', '1', '1',\n",
       "       '1', '1', '1', '1', '1', '1', '1', '1', '1', '1', '1', '1', '1',\n",
       "       '1', '1', '1', '1', '1', '1', '1', '1', '1', '1', '1', '1', '1',\n",
       "       '1', '1', '1', '1', '1', '1', '1', '1', '1', '1', '1', '1', '1',\n",
       "       '1', '1', '1', '1', '1', '1', '1', '1', '1', '1', '1', '1', '1',\n",
       "       '1', '1', '1', '1', '1', '1', '1', '1', '1', '1', '1', '1', '1',\n",
       "       '1', '1', '1', '1', '1', '1', '1', '1', '1', '1', '1', '1', '1',\n",
       "       '1', '1', '1', '1', '1', '1', '1', '1', '1', '1', '1', '1', '1',\n",
       "       '1', '1', '1', '1', '1', '1', '1'], dtype='<U11')"
      ]
     },
     "execution_count": 13,
     "metadata": {},
     "output_type": "execute_result"
    }
   ],
   "source": [
    "probe.shank_ids"
   ]
  },
  {
   "cell_type": "code",
   "execution_count": 5,
   "id": "c1671708",
   "metadata": {},
   "outputs": [
    {
     "data": {
      "text/plain": [
       "(<matplotlib.collections.PolyCollection at 0x27afd4c4160>,\n",
       " <matplotlib.collections.PolyCollection at 0x27afd5247c0>)"
      ]
     },
     "execution_count": 5,
     "metadata": {},
     "output_type": "execute_result"
    },
    {
     "data": {
      "image/png": "[encoded data removed]",
      "text/plain": [
       "<Figure size 640x480 with 1 Axes>"
      ]
     },
     "metadata": {},
     "output_type": "display_data"
    }
   ],
   "source": [
    "pif.plotting.plot_probe(probe)"
   ]
  },
  {
   "cell_type": "code",
   "execution_count": null,
   "id": "26d1008d",
   "metadata": {},
   "outputs": [],
   "source": [
    "raw_rec = si.read_spikeglx(npx2_path, stream_name='imec0.ap')\n",
    "ttls = si.read_spikeglx(npx2_path, stream_name='nidq')"
   ]
  },
  {
   "cell_type": "code",
   "execution_count": null,
   "id": "2694e3e4-4c56-49c4-b5d2-988188081ba6",
   "metadata": {},
   "outputs": [],
   "source": [
    "this_probe = raw_rec.get_probe()"
   ]
  },
  {
   "cell_type": "code",
   "execution_count": null,
   "id": "a017ab04-6101-4364-b7be-47613f90bbb1",
   "metadata": {},
   "outputs": [],
   "source": [
    "this_probe.ndim"
   ]
  },
  {
   "cell_type": "code",
   "execution_count": null,
   "id": "cac897c6-c6c6-43db-896c-1201c4e4d7ab",
   "metadata": {},
   "outputs": [],
   "source": [
    "q0,q1 = pi.plotting.plot_probe(this_probe)"
   ]
  },
  {
   "cell_type": "code",
   "execution_count": null,
   "id": "c083f6d3-6258-43a9-a0da-3cd6dc24162e",
   "metadata": {},
   "outputs": [],
   "source": [
    "vertices = this_probe.get_contact_vertices()"
   ]
  },
  {
   "cell_type": "code",
   "execution_count": null,
   "id": "f70f9368-f21f-4b18-96d5-3c4637f130d6",
   "metadata": {},
   "outputs": [],
   "source": [
    "np.shape(raw_rec.get_channel_locations())"
   ]
  },
  {
   "cell_type": "markdown",
   "id": "f8a498a1",
   "metadata": {},
   "source": [
    "'nidq#AX4' is the odor TTL\\\n",
    "'nidq#AX1' is a quadrature signal\\\n",
    "'nidq#AX2' is a quadrature signal"
   ]
  },
  {
   "cell_type": "code",
   "execution_count": null,
   "id": "8a196237",
   "metadata": {},
   "outputs": [],
   "source": [
    "this_ids = ['nidq#XA1', 'nidq#XA2', 'nidq#XA4']\n",
    "this_gain = [ttls.get_channel_property(channel_id=x, key='gain_to_uV') for x in this_ids]\n",
    "this_offset = [ttls.get_channel_property(channel_id=x, key='offset_to_uV') for x in this_ids]"
   ]
  },
  {
   "cell_type": "code",
   "execution_count": null,
   "id": "12690ace",
   "metadata": {},
   "outputs": [],
   "source": [
    "# TODO Plot quadrature signals and decoded speed\n",
    "plt.plot(ttls.get_traces(channel_ids=[this_ids[0]])*this_gain[0] + this_offset[0])\n",
    "plt.plot(ttls.get_traces(channel_ids=[this_ids[1]])*this_gain[1] + this_offset[1])"
   ]
  },
  {
   "cell_type": "markdown",
   "id": "d4b29f8e-4024-43e7-86ec-caf1698c9793",
   "metadata": {},
   "source": [
    "# Plotting the Odor indicator to see how to threshold"
   ]
  },
  {
   "cell_type": "code",
   "execution_count": null,
   "id": "e8ec7c87",
   "metadata": {},
   "outputs": [],
   "source": [
    "this_signal = ttls.get_traces(channel_ids=[this_ids[2]])*this_gain[2] + this_offset[2]\n",
    "plt.plot(this_signal)\n",
    "plt.axhline(np.mean(this_signal) + np.std(this_signal), color='black')\n",
    "plt.axhline(np.mean(this_signal) - np.std(this_signal), color='red')\n",
    "plt.axhline(np.mean(this_signal) - 2.5*np.std(this_signal), color='green')\n",
    "plt.axhline(np.mean(this_signal) - 3.5*np.std(this_signal), color='black')"
   ]
  },
  {
   "cell_type": "code",
   "execution_count": null,
   "id": "55ffc78f-ba26-4753-aefe-f91662582fee",
   "metadata": {},
   "outputs": [],
   "source": [
    "#The onset times are such that they are less than 2.5 SDs \n",
    "#and greater than 3.5 SDs but also the previous time should be  greater than 2.5 SDs\n",
    "thresh1 = np.mean(this_signal) - 2.5*np.std(this_signal);\n",
    "thresh2 = np.mean(this_signal) - 3.5*np.std(this_signal);"
   ]
  },
  {
   "cell_type": "code",
   "execution_count": null,
   "id": "39319fcf",
   "metadata": {},
   "outputs": [],
   "source": [
    "temp_idx = np.argwhere((this_signal < thresh1) & (this_signal > thresh2))"
   ]
  },
  {
   "cell_type": "code",
   "execution_count": null,
   "id": "a1b81eb0-01e9-424b-b116-a740ce65deef",
   "metadata": {},
   "outputs": [],
   "source": [
    "temp_idx = [x[0] for x in temp_idx]"
   ]
  },
  {
   "cell_type": "code",
   "execution_count": null,
   "id": "0bf32424-aa27-402b-a3ca-0f0f48cf6174",
   "metadata": {},
   "outputs": [],
   "source": [
    "np.take(this_signal, temp_idx)"
   ]
  },
  {
   "cell_type": "code",
   "execution_count": null,
   "id": "9eb99934-e4e6-4fe2-ac77-d1aa2d0e973b",
   "metadata": {},
   "outputs": [],
   "source": [
    "np.shape(onset_idx)"
   ]
  },
  {
   "cell_type": "code",
   "execution_count": null,
   "id": "521bc23e",
   "metadata": {},
   "outputs": [],
   "source": [
    "np.shape(this_signal)"
   ]
  },
  {
   "cell_type": "code",
   "execution_count": null,
   "id": "df072ab4",
   "metadata": {},
   "outputs": [],
   "source": []
  },
  {
   "cell_type": "code",
   "execution_count": null,
   "id": "361741b1",
   "metadata": {},
   "outputs": [],
   "source": [
    "fig, ax = plt.subplots(figsize=(15, 10))\n",
    "si.plot_probe_map(raw_rec, ax=ax, with_channel_ids=False)\n",
    "ax.set_ylim(-100, 4000)"
   ]
  },
  {
   "cell_type": "code",
   "execution_count": null,
   "id": "dc31762a",
   "metadata": {},
   "outputs": [],
   "source": [
    "bad_channel_ids, channel_labels = si.detect_bad_channels(raw_rec)"
   ]
  },
  {
   "cell_type": "code",
   "execution_count": null,
   "id": "5e77ab27",
   "metadata": {},
   "outputs": [],
   "source": [
    "channel_labels"
   ]
  }
 ],
 "metadata": {
  "kernelspec": {
   "display_name": "spikeinterface",
   "language": "python",
   "name": "python3"
  },
  "language_info": {
   "codemirror_mode": {
    "name": "ipython",
    "version": 3
   },
   "file_extension": ".py",
   "mimetype": "text/x-python",
   "name": "python",
   "nbconvert_exporter": "python",
   "pygments_lexer": "ipython3",
   "version": "3.9.17"
  }
 },
 "nbformat": 4,
 "nbformat_minor": 5
}
